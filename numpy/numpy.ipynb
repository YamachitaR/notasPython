{
 "cells": [
  {
   "cell_type": "markdown",
   "id": "dbffa24d",
   "metadata": {},
   "source": [
    "# Criando Array"
   ]
  },
  {
   "cell_type": "code",
   "execution_count": 1,
   "id": "01005f18",
   "metadata": {},
   "outputs": [],
   "source": [
    "import numpy as np"
   ]
  },
  {
   "cell_type": "markdown",
   "id": "119342e8",
   "metadata": {},
   "source": [
    "## Array de zero "
   ]
  },
  {
   "cell_type": "code",
   "execution_count": 4,
   "id": "4c3a8882",
   "metadata": {},
   "outputs": [
    {
     "name": "stdout",
     "output_type": "stream",
     "text": [
      "[[0. 0. 0. 0. 0. 0.]\n",
      " [0. 0. 0. 0. 0. 0.]\n",
      " [0. 0. 0. 0. 0. 0.]]\n"
     ]
    }
   ],
   "source": [
    "print(np.zeros((3,6)))"
   ]
  },
  {
   "cell_type": "markdown",
   "id": "ebb7a614",
   "metadata": {},
   "source": [
    "## Aleatório de 0 a 1"
   ]
  },
  {
   "cell_type": "code",
   "execution_count": 5,
   "id": "b828b4ca",
   "metadata": {},
   "outputs": [
    {
     "name": "stdout",
     "output_type": "stream",
     "text": [
      "[[0.69734906 0.91807412 0.35666664 0.34891421]\n",
      " [0.13154646 0.2735392  0.72716023 0.39209247]]\n"
     ]
    }
   ],
   "source": [
    "print(np.random.random((2,4)))"
   ]
  },
  {
   "cell_type": "markdown",
   "id": "3e735247",
   "metadata": {},
   "source": [
    "## Sequencia de numeros"
   ]
  },
  {
   "cell_type": "code",
   "execution_count": 7,
   "id": "0e225e35",
   "metadata": {},
   "outputs": [
    {
     "data": {
      "text/plain": [
       "array([0, 1, 2, 3, 4, 5, 6, 7, 8, 9])"
      ]
     },
     "execution_count": 7,
     "metadata": {},
     "output_type": "execute_result"
    }
   ],
   "source": [
    "# De 0 ate 9 \n",
    "np.arange(10)"
   ]
  },
  {
   "cell_type": "code",
   "execution_count": 10,
   "id": "4beee6ab",
   "metadata": {},
   "outputs": [
    {
     "data": {
      "text/plain": [
       "array([50, 51, 52, 53, 54, 55, 56, 57, 58, 59])"
      ]
     },
     "execution_count": 10,
     "metadata": {},
     "output_type": "execute_result"
    }
   ],
   "source": [
    "# vamos supor que queremos que começe apatir de 50\n",
    "np.arange(50,60)"
   ]
  },
  {
   "cell_type": "code",
   "execution_count": 12,
   "id": "36f73633",
   "metadata": {},
   "outputs": [
    {
     "data": {
      "text/plain": [
       "array([ 0,  3,  6,  9, 12, 15, 18, 21, 24, 27, 30, 33, 36, 39, 42, 45, 48,\n",
       "       51, 54, 57, 60, 63, 66, 69, 72, 75, 78, 81, 84, 87, 90, 93, 96, 99])"
      ]
     },
     "execution_count": 12,
     "metadata": {},
     "output_type": "execute_result"
    }
   ],
   "source": [
    "# Vamos supor que queremos seja sequencia de multiplo de 3 do intervelo de 0 a 100\n",
    "np.arange(0,100,3)"
   ]
  },
  {
   "cell_type": "markdown",
   "id": "1484f864",
   "metadata": {},
   "source": [
    "## Criando de tamanho n"
   ]
  },
  {
   "cell_type": "code",
   "execution_count": 16,
   "id": "23594d83",
   "metadata": {},
   "outputs": [
    {
     "name": "stdout",
     "output_type": "stream",
     "text": [
      "[[ 0  1  2  3  4  5  6  7  8  9]\n",
      " [10 11 12 13 14 15 16 17 18 19]]\n"
     ]
    }
   ],
   "source": [
    "linha1 = np.arange(10)\n",
    "linha2 = np.arange(10,20)\n",
    "\n",
    "matrix = np.array([linha1, linha2])\n",
    "\n",
    "print(matrix)"
   ]
  },
  {
   "cell_type": "code",
   "execution_count": 6,
   "id": "a7368e04",
   "metadata": {},
   "outputs": [
    {
     "name": "stdout",
     "output_type": "stream",
     "text": [
      "[[ 0  1  2]\n",
      " [ 3  4  5]\n",
      " [ 6  7  8]\n",
      " [ 9 10 11]]\n"
     ]
    }
   ],
   "source": [
    "import numpy as np\n",
    "matriz43 = np.arange(12).reshape(4,3)\n",
    "print(matriz43)"
   ]
  },
  {
   "cell_type": "code",
   "execution_count": 43,
   "id": "8912595a",
   "metadata": {},
   "outputs": [
    {
     "name": "stdout",
     "output_type": "stream",
     "text": [
      "[[[ 0  1  2  3  4  5  6  7  8  9]\n",
      "  [10 11 12 13 14 15 16 17 18 19]]\n",
      "\n",
      " [[ 0  1  2  3  4  5  6  7  8  9]\n",
      "  [10 11 12 13 14 15 16 17 18 19]]]\n"
     ]
    }
   ],
   "source": [
    "z = np.arange(1,10)\n",
    "tensor = np.array([matrix, matrix])\n",
    "\n",
    "print(tensor)"
   ]
  },
  {
   "cell_type": "markdown",
   "id": "1e920b08",
   "metadata": {},
   "source": [
    "# Redimensionando "
   ]
  },
  {
   "cell_type": "code",
   "execution_count": 18,
   "id": "1074f0ff",
   "metadata": {},
   "outputs": [
    {
     "name": "stdout",
     "output_type": "stream",
     "text": [
      "[[ 0  1  2  3  4  5  6  7  8  9]\n",
      " [10 11 12 13 14 15 16 17 18 19]]\n"
     ]
    }
   ],
   "source": [
    "linha1 = np.arange(10)\n",
    "linha2 = np.arange(10,20)\n",
    "\n",
    "matrix = np.array([linha1, linha2])\n",
    "\n",
    "print(matrix)"
   ]
  },
  {
   "cell_type": "markdown",
   "id": "5bc4245c",
   "metadata": {},
   "source": [
    "## Reshape"
   ]
  },
  {
   "cell_type": "code",
   "execution_count": 19,
   "id": "13b977dd",
   "metadata": {},
   "outputs": [
    {
     "name": "stdout",
     "output_type": "stream",
     "text": [
      "[[ 0  1  2  3  4]\n",
      " [ 5  6  7  8  9]\n",
      " [10 11 12 13 14]\n",
      " [15 16 17 18 19]]\n"
     ]
    }
   ],
   "source": [
    "# Vamos dimensionar para que seja uma matrix 4 por 5\n",
    "print(matrix.reshape(4,5))"
   ]
  },
  {
   "cell_type": "markdown",
   "id": "87e01734",
   "metadata": {},
   "source": [
    "## Flatten\n",
    "\n",
    "Seria deixar os elementos em fila"
   ]
  },
  {
   "cell_type": "code",
   "execution_count": 21,
   "id": "ce50b287",
   "metadata": {},
   "outputs": [
    {
     "name": "stdout",
     "output_type": "stream",
     "text": [
      "[ 0  1  2  3  4  5  6  7  8  9 10 11 12 13 14 15 16 17 18 19]\n"
     ]
    }
   ],
   "source": [
    "print(matrix.flatten())"
   ]
  },
  {
   "cell_type": "markdown",
   "id": "32ed3220",
   "metadata": {},
   "source": [
    "# Fazendo operação com tamanho diferentes"
   ]
  },
  {
   "cell_type": "code",
   "execution_count": 17,
   "id": "8a834b4b",
   "metadata": {},
   "outputs": [
    {
     "name": "stdout",
     "output_type": "stream",
     "text": [
      "[[ 0  1  2]\n",
      " [ 3  4  5]\n",
      " [ 6  7  8]\n",
      " [ 9 10 11]]\n"
     ]
    }
   ],
   "source": [
    "import numpy as np\n",
    "\n",
    "matriz43 = np.arange(12).reshape(4,3)\n",
    "print(matriz43)"
   ]
  },
  {
   "cell_type": "code",
   "execution_count": 28,
   "id": "b834e99b",
   "metadata": {},
   "outputs": [
    {
     "name": "stdout",
     "output_type": "stream",
     "text": [
      "[0 1 2]\n",
      "[[0]\n",
      " [1]\n",
      " [2]\n",
      " [3]]\n"
     ]
    }
   ],
   "source": [
    "matriz13 = np.arange(3)\n",
    "matriz41 = np.arange(4).reshape((4,1))\n",
    "print(matriz13)\n",
    "print(matriz41)"
   ]
  },
  {
   "cell_type": "code",
   "execution_count": 29,
   "id": "2f040b8a",
   "metadata": {},
   "outputs": [
    {
     "name": "stdout",
     "output_type": "stream",
     "text": [
      "(4, 3) (3,) (4, 1)\n"
     ]
    }
   ],
   "source": [
    "print(matriz43.shape, matriz13.shape,  matriz41.shape)"
   ]
  },
  {
   "cell_type": "code",
   "execution_count": 30,
   "id": "84af82de",
   "metadata": {},
   "outputs": [
    {
     "name": "stdout",
     "output_type": "stream",
     "text": [
      "[[ 0  2  4]\n",
      " [ 3  5  7]\n",
      " [ 6  8 10]\n",
      " [ 9 11 13]]\n",
      "[[ 0  1  2]\n",
      " [ 4  5  6]\n",
      " [ 8  9 10]\n",
      " [12 13 14]]\n"
     ]
    }
   ],
   "source": [
    "print(matriz43 + matriz13)\n",
    "print(matriz43 + matriz41)"
   ]
  },
  {
   "cell_type": "code",
   "execution_count": 21,
   "id": "dd4ee7f6",
   "metadata": {},
   "outputs": [
    {
     "name": "stdout",
     "output_type": "stream",
     "text": [
      "[[ 0  1  4]\n",
      " [ 0  4 10]\n",
      " [ 0  7 16]\n",
      " [ 0 10 22]]\n"
     ]
    }
   ],
   "source": [
    "print(matriz43 * matriz13)"
   ]
  },
  {
   "cell_type": "code",
   "execution_count": 22,
   "id": "1ae632dc",
   "metadata": {},
   "outputs": [
    {
     "name": "stdout",
     "output_type": "stream",
     "text": [
      "[[ 0  1  4]\n",
      " [ 0  4 10]\n",
      " [ 0  7 16]\n",
      " [ 0 10 22]]\n"
     ]
    }
   ],
   "source": [
    "print(matriz13* matriz43)"
   ]
  },
  {
   "cell_type": "markdown",
   "id": "0f03a957",
   "metadata": {},
   "source": [
    "# Tamanho da variável  (pensar um nome melhor)"
   ]
  },
  {
   "cell_type": "markdown",
   "id": "f1b45be2",
   "metadata": {},
   "source": [
    "## Tamanho padrão \n",
    "\n",
    "O elemento do bit, inicial começa 64bit por padrão "
   ]
  },
  {
   "cell_type": "code",
   "execution_count": 23,
   "id": "c1656896",
   "metadata": {},
   "outputs": [
    {
     "name": "stdout",
     "output_type": "stream",
     "text": [
      "int64\n"
     ]
    }
   ],
   "source": [
    "t =  np.arange(10)\n",
    "print(t.dtype)"
   ]
  },
  {
   "cell_type": "markdown",
   "id": "5a0fbe25",
   "metadata": {},
   "source": [
    "## Alterando o tamanho"
   ]
  },
  {
   "cell_type": "code",
   "execution_count": 26,
   "id": "0effb11a",
   "metadata": {},
   "outputs": [
    {
     "name": "stdout",
     "output_type": "stream",
     "text": [
      "int8\n"
     ]
    }
   ],
   "source": [
    "t = t.astype(np.int8)\n",
    "print(t.dtype)"
   ]
  },
  {
   "cell_type": "markdown",
   "id": "980ca4d4",
   "metadata": {},
   "source": [
    "## Inciando com um tamanho\n",
    "\n"
   ]
  },
  {
   "cell_type": "code",
   "execution_count": 27,
   "id": "a3d36cb9",
   "metadata": {},
   "outputs": [
    {
     "data": {
      "text/plain": [
       "dtype('float32')"
      ]
     },
     "execution_count": 27,
     "metadata": {},
     "output_type": "execute_result"
    }
   ],
   "source": [
    "float32_array = np.array([1.32, 5.78, 175.55], dtype=np.float32)\n",
    "float32_array.dtype"
   ]
  },
  {
   "cell_type": "markdown",
   "id": "63a4b974",
   "metadata": {},
   "source": [
    "# Acessando o Elemento "
   ]
  },
  {
   "cell_type": "code",
   "execution_count": 30,
   "id": "abd30d87",
   "metadata": {},
   "outputs": [
    {
     "name": "stdout",
     "output_type": "stream",
     "text": [
      "[[ 0  1  2  3  4  5  6  7  8  9]\n",
      " [10 11 12 13 14 15 16 17 18 19]]\n"
     ]
    }
   ],
   "source": [
    "linha1 = np.arange(10)\n",
    "linha2 = np.arange(10,20)\n",
    "\n",
    "matrix = np.array([linha1, linha2])\n",
    "\n",
    "print(matrix)"
   ]
  },
  {
   "cell_type": "code",
   "execution_count": 31,
   "id": "03f193a8",
   "metadata": {},
   "outputs": [
    {
     "name": "stdout",
     "output_type": "stream",
     "text": [
      "12\n"
     ]
    }
   ],
   "source": [
    "print(matrix[1,2])"
   ]
  },
  {
   "cell_type": "code",
   "execution_count": 44,
   "id": "e73312f4",
   "metadata": {},
   "outputs": [
    {
     "name": "stdout",
     "output_type": "stream",
     "text": [
      "[[[ 0  1  2  3  4  5  6  7  8  9]\n",
      "  [10 11 12 13 14 15 16 17 18 19]]\n",
      "\n",
      " [[ 0  1  2  3  4  5  6  7  8  9]\n",
      "  [10 11 12 13 14 15 16 17 18 19]]]\n"
     ]
    }
   ],
   "source": [
    "z = np.arange(1,10)\n",
    "tensor = np.array([matrix,matrix])\n",
    "\n",
    "print(tensor)"
   ]
  },
  {
   "cell_type": "code",
   "execution_count": 45,
   "id": "09ad73c1",
   "metadata": {},
   "outputs": [
    {
     "name": "stdout",
     "output_type": "stream",
     "text": [
      "3\n"
     ]
    }
   ],
   "source": [
    "print(tensor[1][0,3])"
   ]
  },
  {
   "cell_type": "markdown",
   "id": "b4fa8ba1",
   "metadata": {},
   "source": [
    "## intervalo de elemento "
   ]
  },
  {
   "cell_type": "code",
   "execution_count": 46,
   "id": "2ca2272a",
   "metadata": {},
   "outputs": [
    {
     "name": "stdout",
     "output_type": "stream",
     "text": [
      "[ 1 11]\n"
     ]
    }
   ],
   "source": [
    "print(matrix[:,1])"
   ]
  },
  {
   "cell_type": "code",
   "execution_count": 47,
   "id": "9d57174c",
   "metadata": {},
   "outputs": [
    {
     "name": "stdout",
     "output_type": "stream",
     "text": [
      "[10 11 12 13 14 15 16 17 18 19]\n"
     ]
    }
   ],
   "source": [
    "print(matrix[1,:])"
   ]
  },
  {
   "cell_type": "code",
   "execution_count": 54,
   "id": "2abbb15c",
   "metadata": {},
   "outputs": [
    {
     "name": "stdout",
     "output_type": "stream",
     "text": [
      "[1 4 7]\n"
     ]
    }
   ],
   "source": [
    "print(matrix[0,1:10:3])"
   ]
  },
  {
   "cell_type": "markdown",
   "id": "12ec8192",
   "metadata": {},
   "source": [
    "## Filtro "
   ]
  },
  {
   "cell_type": "code",
   "execution_count": 55,
   "id": "673ff308",
   "metadata": {},
   "outputs": [
    {
     "name": "stdout",
     "output_type": "stream",
     "text": [
      "[[10 11 12 13 14 15 16 17 18 19]]\n"
     ]
    }
   ],
   "source": [
    "mask = matrix[:,1] > 1\n",
    "print(matrix[mask])"
   ]
  },
  {
   "cell_type": "markdown",
   "id": "944574cb",
   "metadata": {},
   "source": [
    "vamos utirizar **where** que retorna a posição do indice "
   ]
  },
  {
   "cell_type": "code",
   "execution_count": 56,
   "id": "ec35cd2b",
   "metadata": {},
   "outputs": [
    {
     "name": "stdout",
     "output_type": "stream",
     "text": [
      "(array([1]),)\n",
      "[[10 11 12 13 14 15 16 17 18 19]]\n"
     ]
    }
   ],
   "source": [
    "indice = np.where(matrix[:,1] > 1)\n",
    "\n",
    "print(indice)\n",
    "\n",
    "print(matrix[indice])"
   ]
  },
  {
   "cell_type": "markdown",
   "id": "ed215be0",
   "metadata": {},
   "source": [
    "# Concatenação"
   ]
  },
  {
   "cell_type": "markdown",
   "id": "1e921811",
   "metadata": {},
   "source": [
    "## Linha"
   ]
  },
  {
   "cell_type": "code",
   "execution_count": 71,
   "id": "f4dae888",
   "metadata": {},
   "outputs": [
    {
     "name": "stdout",
     "output_type": "stream",
     "text": [
      "(2, 2)\n"
     ]
    }
   ],
   "source": [
    "matrix = np.array([[1,1], [2,2]])\n",
    "\n",
    "print(matrix.shape)"
   ]
  },
  {
   "cell_type": "code",
   "execution_count": 79,
   "id": "981b8113",
   "metadata": {},
   "outputs": [
    {
     "data": {
      "text/plain": [
       "(1, 2)"
      ]
     },
     "execution_count": 79,
     "metadata": {},
     "output_type": "execute_result"
    }
   ],
   "source": [
    "linha = np.array([[3,3])\n",
    "linha.shape"
   ]
  },
  {
   "cell_type": "code",
   "execution_count": 80,
   "id": "7876cb7e",
   "metadata": {},
   "outputs": [
    {
     "name": "stdout",
     "output_type": "stream",
     "text": [
      "[[1 1]\n",
      " [2 2]\n",
      " [3 3]]\n"
     ]
    }
   ],
   "source": [
    "cont = np.concatenate((matrix,linha)) \n",
    "print(cont)"
   ]
  },
  {
   "cell_type": "markdown",
   "id": "9ba2313c",
   "metadata": {},
   "source": [
    "## Coluna"
   ]
  },
  {
   "cell_type": "code",
   "execution_count": 82,
   "id": "db3aca1f",
   "metadata": {},
   "outputs": [
    {
     "name": "stdout",
     "output_type": "stream",
     "text": [
      "(2, 2) (2, 1)\n"
     ]
    }
   ],
   "source": [
    "matrix = np.array([[1,1], [2,2]])\n",
    "coluna = np.array([[3],[3]])\n",
    "\n",
    "print(matrix.shape, coluna.shape)"
   ]
  },
  {
   "cell_type": "code",
   "execution_count": 84,
   "id": "2103b2cf",
   "metadata": {},
   "outputs": [
    {
     "name": "stdout",
     "output_type": "stream",
     "text": [
      "[[1 1 3]\n",
      " [2 2 3]]\n"
     ]
    }
   ],
   "source": [
    "cont = np.concatenate((matrix,coluna), axis=1) \n",
    "\n",
    "print(cont)"
   ]
  },
  {
   "cell_type": "markdown",
   "id": "5639a533",
   "metadata": {},
   "source": [
    "# Deletando "
   ]
  },
  {
   "cell_type": "code",
   "execution_count": 86,
   "id": "30af0368",
   "metadata": {},
   "outputs": [
    {
     "name": "stdout",
     "output_type": "stream",
     "text": [
      "[[1 2 3]\n",
      " [4 5 6]\n",
      " [7 8 9]]\n"
     ]
    }
   ],
   "source": [
    "matrix = np.array([[1,2,3], [4,5,6], [7,8,9]])\n",
    "\n",
    "print(matrix)"
   ]
  },
  {
   "cell_type": "code",
   "execution_count": 88,
   "id": "f1dbc503",
   "metadata": {},
   "outputs": [
    {
     "name": "stdout",
     "output_type": "stream",
     "text": [
      "[[1 2 3]\n",
      " [7 8 9]]\n"
     ]
    }
   ],
   "source": [
    "deletando_linha = np.delete(matrix, 1, axis=0)\n",
    "\n",
    "print(deletando_linha)"
   ]
  },
  {
   "cell_type": "code",
   "execution_count": 89,
   "id": "56750489",
   "metadata": {},
   "outputs": [
    {
     "name": "stdout",
     "output_type": "stream",
     "text": [
      "[[1 3]\n",
      " [4 6]\n",
      " [7 9]]\n"
     ]
    }
   ],
   "source": [
    "deletando_coluna = np.delete(matrix, 1, axis=1)\n",
    "\n",
    "print(deletando_coluna)"
   ]
  },
  {
   "cell_type": "code",
   "execution_count": 92,
   "id": "fbd9175c",
   "metadata": {},
   "outputs": [
    {
     "name": "stdout",
     "output_type": "stream",
     "text": [
      "[[2 3]\n",
      " [5 6]\n",
      " [8 9]]\n"
     ]
    }
   ],
   "source": [
    "# Usando where como auxiliar\n",
    "\n",
    "mask = np.where(matrix[:,2] < 5)\n",
    "\n",
    "deletando = np.delete(matrix, mask, axis=1)\n",
    "\n",
    "\n",
    "print(deletando)"
   ]
  },
  {
   "cell_type": "markdown",
   "id": "766c33c0",
   "metadata": {},
   "source": [
    "# Transformando matriz (pensar um nome melhor)"
   ]
  },
  {
   "cell_type": "markdown",
   "id": "2bffb796",
   "metadata": {},
   "source": [
    "## Flip"
   ]
  },
  {
   "cell_type": "code",
   "execution_count": 38,
   "id": "002c6324",
   "metadata": {},
   "outputs": [
    {
     "data": {
      "text/plain": [
       "array([[4.3, 4.2, 4.1],\n",
       "       [3.3, 3.2, 3.1],\n",
       "       [2.3, 2.2, 2.1],\n",
       "       [1.3, 1.2, 1.1]])"
      ]
     },
     "execution_count": 38,
     "metadata": {},
     "output_type": "execute_result"
    }
   ],
   "source": [
    "array = np.array([[1.1, 1.2, 1.3],\n",
    "[2.1, 2.2, 2.3],\n",
    "[3.1, 3.2, 3.3],\n",
    "[4.1, 4.2, 4.3]])\n",
    "np.flip(array)"
   ]
  },
  {
   "cell_type": "code",
   "execution_count": 43,
   "id": "a4cc88a8",
   "metadata": {},
   "outputs": [
    {
     "data": {
      "text/plain": [
       "array([11, 10,  9,  8,  7,  6,  5,  4,  3,  2,  1,  0])"
      ]
     },
     "execution_count": 43,
     "metadata": {},
     "output_type": "execute_result"
    }
   ],
   "source": [
    "array = np.arange(12)\n",
    "\n",
    "np.flip(array)"
   ]
  },
  {
   "cell_type": "markdown",
   "id": "52e0f12e",
   "metadata": {},
   "source": [
    "## Transposta "
   ]
  },
  {
   "cell_type": "code",
   "execution_count": 39,
   "id": "79c5ab83",
   "metadata": {},
   "outputs": [
    {
     "data": {
      "text/plain": [
       "array([[1.1, 2.1, 3.1, 4.1],\n",
       "       [1.2, 2.2, 3.2, 4.2],\n",
       "       [1.3, 2.3, 3.3, 4.3]])"
      ]
     },
     "execution_count": 39,
     "metadata": {},
     "output_type": "execute_result"
    }
   ],
   "source": [
    "array = np.array([[1.1, 1.2, 1.3],\n",
    "[2.1, 2.2, 2.3],\n",
    "[3.1, 3.2, 3.3],\n",
    "[4.1, 4.2, 4.3]])\n",
    "np.transpose(array)"
   ]
  },
  {
   "cell_type": "markdown",
   "id": "5beade9a",
   "metadata": {},
   "source": [
    "#  Eficiência "
   ]
  },
  {
   "cell_type": "markdown",
   "id": "b6a70427",
   "metadata": {},
   "source": [
    "## Vectorize\n",
    "\n",
    "Em NumPy, a vetorização refere-se à prática de substituir loops explícitos em Python por operações vetorizadas em arrays NumPy. A vetorização é uma técnica eficiente que explora a capacidade do NumPy de realizar operações em arrays inteiros, evitando loops e, assim, melhorando significativamente o desempenho do código.\n",
    "\n",
    "A vetorização é possível devido à capacidade do NumPy de realizar operações em arrays inteiros de forma eficiente, conhecida como operações vetorizadas. Essas operações permitem que você execute cálculos em arrays inteiros sem a necessidade de escrever explicitamente loops em Python."
   ]
  },
  {
   "cell_type": "markdown",
   "id": "83f1ee41",
   "metadata": {},
   "source": [
    "### Exemplo:\n"
   ]
  },
  {
   "cell_type": "code",
   "execution_count": 33,
   "id": "6b8ce519",
   "metadata": {},
   "outputs": [
    {
     "name": "stdout",
     "output_type": "stream",
     "text": [
      "['RICARDO' 'LETICIA' 'FATIMA' 'ROBERTO']\n"
     ]
    }
   ],
   "source": [
    "nomes = np.array([\"ricardo\", \"leticia\", \"fatima\", \"roberto\"])\n",
    "\n",
    "vectorize_upper = np.vectorize(str.upper)\n",
    "\n",
    "# Aplicando \n",
    "upper_nomes = vectorize_upper(nomes)\n",
    "\n",
    "print(upper_nomes)"
   ]
  },
  {
   "cell_type": "markdown",
   "id": "2a415c79",
   "metadata": {},
   "source": [
    "#  Arquivo \n",
    "\n",
    "Acredito que não é comum temos arquivo em numpy mas"
   ]
  },
  {
   "cell_type": "markdown",
   "id": "0890a703",
   "metadata": {},
   "source": [
    "## leitura\n",
    "\n",
    "Encontra um arquvivo bacana para colocar como exemplo, repare que a extensão do arquivo np"
   ]
  },
  {
   "cell_type": "code",
   "execution_count": 34,
   "id": "bbd511b2",
   "metadata": {},
   "outputs": [
    {
     "ename": "FileNotFoundError",
     "evalue": "[Errno 2] No such file or directory: 'file.np'",
     "output_type": "error",
     "traceback": [
      "\u001b[0;31m---------------------------------------------------------------------------\u001b[0m",
      "\u001b[0;31mFileNotFoundError\u001b[0m                         Traceback (most recent call last)",
      "\u001b[0;32m/tmp/ipykernel_16323/1145454002.py\u001b[0m in \u001b[0;36m<module>\u001b[0;34m\u001b[0m\n\u001b[0;32m----> 1\u001b[0;31m \u001b[0;32mwith\u001b[0m \u001b[0mopen\u001b[0m\u001b[0;34m(\u001b[0m\u001b[0;34m\"file.np\"\u001b[0m\u001b[0;34m,\u001b[0m \u001b[0;34m\"rb\"\u001b[0m\u001b[0;34m)\u001b[0m \u001b[0;32mas\u001b[0m \u001b[0mf\u001b[0m\u001b[0;34m:\u001b[0m\u001b[0;34m\u001b[0m\u001b[0;34m\u001b[0m\u001b[0m\n\u001b[0m\u001b[1;32m      2\u001b[0m     \u001b[0marray\u001b[0m \u001b[0;34m=\u001b[0m \u001b[0mnp\u001b[0m\u001b[0;34m.\u001b[0m\u001b[0mload\u001b[0m\u001b[0;34m(\u001b[0m\u001b[0mf\u001b[0m\u001b[0;34m)\u001b[0m\u001b[0;34m\u001b[0m\u001b[0;34m\u001b[0m\u001b[0m\n",
      "\u001b[0;31mFileNotFoundError\u001b[0m: [Errno 2] No such file or directory: 'file.np'"
     ]
    }
   ],
   "source": [
    "with open(\"file.np\", \"rb\") as f:\n",
    "    array = np.load(f)"
   ]
  },
  {
   "cell_type": "markdown",
   "id": "a2746d1e",
   "metadata": {},
   "source": [
    "## Salvar"
   ]
  },
  {
   "cell_type": "code",
   "execution_count": null,
   "id": "dd4bb332",
   "metadata": {},
   "outputs": [],
   "source": [
    "with open(\"file.npy\", \"wb\") as f:\n",
    "    np.save(f, array)"
   ]
  },
  {
   "cell_type": "markdown",
   "id": "34939ccd",
   "metadata": {},
   "source": [
    "# Ajuda\n",
    "\n",
    "Usamos help para obtemos informação da função e do metódo\n",
    "\n",
    "~~~python\n",
    "#para metodo \n",
    "help(np.ndarray.metodo)\n",
    "\n",
    "#para função \n",
    "help(np.função)\n",
    "~~~\n",
    "\n",
    "Preciso verifica se para metódo realmente precisamos colocar `ndarray`"
   ]
  },
  {
   "cell_type": "code",
   "execution_count": 37,
   "id": "8cb4d02e",
   "metadata": {},
   "outputs": [
    {
     "name": "stdout",
     "output_type": "stream",
     "text": [
      "Help on method_descriptor:\n",
      "\n",
      "flatten(...)\n",
      "    a.flatten(order='C')\n",
      "    \n",
      "    Return a copy of the array collapsed into one dimension.\n",
      "    \n",
      "    Parameters\n",
      "    ----------\n",
      "    order : {'C', 'F', 'A', 'K'}, optional\n",
      "        'C' means to flatten in row-major (C-style) order.\n",
      "        'F' means to flatten in column-major (Fortran-\n",
      "        style) order. 'A' means to flatten in column-major\n",
      "        order if `a` is Fortran *contiguous* in memory,\n",
      "        row-major order otherwise. 'K' means to flatten\n",
      "        `a` in the order the elements occur in memory.\n",
      "        The default is 'C'.\n",
      "    \n",
      "    Returns\n",
      "    -------\n",
      "    y : ndarray\n",
      "        A copy of the input array, flattened to one dimension.\n",
      "    \n",
      "    See Also\n",
      "    --------\n",
      "    ravel : Return a flattened array.\n",
      "    flat : A 1-D flat iterator over the array.\n",
      "    \n",
      "    Examples\n",
      "    --------\n",
      "    >>> a = np.array([[1,2], [3,4]])\n",
      "    >>> a.flatten()\n",
      "    array([1, 2, 3, 4])\n",
      "    >>> a.flatten('F')\n",
      "    array([1, 3, 2, 4])\n",
      "\n"
     ]
    }
   ],
   "source": [
    "help(np.ndarray.flatten)"
   ]
  },
  {
   "cell_type": "code",
   "execution_count": 35,
   "id": "a6b121c8",
   "metadata": {},
   "outputs": [
    {
     "name": "stdout",
     "output_type": "stream",
     "text": [
      "Help on method_descriptor:\n",
      "\n",
      "astype(...)\n",
      "    a.astype(dtype, order='K', casting='unsafe', subok=True, copy=True)\n",
      "    \n",
      "    Copy of the array, cast to a specified type.\n",
      "    \n",
      "    Parameters\n",
      "    ----------\n",
      "    dtype : str or dtype\n",
      "        Typecode or data-type to which the array is cast.\n",
      "    order : {'C', 'F', 'A', 'K'}, optional\n",
      "        Controls the memory layout order of the result.\n",
      "        'C' means C order, 'F' means Fortran order, 'A'\n",
      "        means 'F' order if all the arrays are Fortran contiguous,\n",
      "        'C' order otherwise, and 'K' means as close to the\n",
      "        order the array elements appear in memory as possible.\n",
      "        Default is 'K'.\n",
      "    casting : {'no', 'equiv', 'safe', 'same_kind', 'unsafe'}, optional\n",
      "        Controls what kind of data casting may occur. Defaults to 'unsafe'\n",
      "        for backwards compatibility.\n",
      "    \n",
      "          * 'no' means the data types should not be cast at all.\n",
      "          * 'equiv' means only byte-order changes are allowed.\n",
      "          * 'safe' means only casts which can preserve values are allowed.\n",
      "          * 'same_kind' means only safe casts or casts within a kind,\n",
      "            like float64 to float32, are allowed.\n",
      "          * 'unsafe' means any data conversions may be done.\n",
      "    subok : bool, optional\n",
      "        If True, then sub-classes will be passed-through (default), otherwise\n",
      "        the returned array will be forced to be a base-class array.\n",
      "    copy : bool, optional\n",
      "        By default, astype always returns a newly allocated array. If this\n",
      "        is set to false, and the `dtype`, `order`, and `subok`\n",
      "        requirements are satisfied, the input array is returned instead\n",
      "        of a copy.\n",
      "    \n",
      "    Returns\n",
      "    -------\n",
      "    arr_t : ndarray\n",
      "        Unless `copy` is False and the other conditions for returning the input\n",
      "        array are satisfied (see description for `copy` input parameter), `arr_t`\n",
      "        is a new array of the same shape as the input array, with dtype, order\n",
      "        given by `dtype`, `order`.\n",
      "    \n",
      "    Notes\n",
      "    -----\n",
      "    .. versionchanged:: 1.17.0\n",
      "       Casting between a simple data type and a structured one is possible only\n",
      "       for \"unsafe\" casting.  Casting to multiple fields is allowed, but\n",
      "       casting from multiple fields is not.\n",
      "    \n",
      "    .. versionchanged:: 1.9.0\n",
      "       Casting from numeric to string types in 'safe' casting mode requires\n",
      "       that the string dtype length is long enough to store the max\n",
      "       integer/float value converted.\n",
      "    \n",
      "    Raises\n",
      "    ------\n",
      "    ComplexWarning\n",
      "        When casting from complex to float or int. To avoid this,\n",
      "        one should use ``a.real.astype(t)``.\n",
      "    \n",
      "    Examples\n",
      "    --------\n",
      "    >>> x = np.array([1, 2, 2.5])\n",
      "    >>> x\n",
      "    array([1. ,  2. ,  2.5])\n",
      "    \n",
      "    >>> x.astype(int)\n",
      "    array([1, 2, 2])\n",
      "\n"
     ]
    }
   ],
   "source": [
    "help(np.ndarray.astype)"
   ]
  },
  {
   "cell_type": "code",
   "execution_count": 36,
   "id": "85c50ffc",
   "metadata": {},
   "outputs": [
    {
     "name": "stdout",
     "output_type": "stream",
     "text": [
      "Help on function unique in module numpy:\n",
      "\n",
      "unique(ar, return_index=False, return_inverse=False, return_counts=False, axis=None)\n",
      "    Find the unique elements of an array.\n",
      "    \n",
      "    Returns the sorted unique elements of an array. There are three optional\n",
      "    outputs in addition to the unique elements:\n",
      "    \n",
      "    * the indices of the input array that give the unique values\n",
      "    * the indices of the unique array that reconstruct the input array\n",
      "    * the number of times each unique value comes up in the input array\n",
      "    \n",
      "    Parameters\n",
      "    ----------\n",
      "    ar : array_like\n",
      "        Input array. Unless `axis` is specified, this will be flattened if it\n",
      "        is not already 1-D.\n",
      "    return_index : bool, optional\n",
      "        If True, also return the indices of `ar` (along the specified axis,\n",
      "        if provided, or in the flattened array) that result in the unique array.\n",
      "    return_inverse : bool, optional\n",
      "        If True, also return the indices of the unique array (for the specified\n",
      "        axis, if provided) that can be used to reconstruct `ar`.\n",
      "    return_counts : bool, optional\n",
      "        If True, also return the number of times each unique item appears\n",
      "        in `ar`.\n",
      "    \n",
      "        .. versionadded:: 1.9.0\n",
      "    \n",
      "    axis : int or None, optional\n",
      "        The axis to operate on. If None, `ar` will be flattened. If an integer,\n",
      "        the subarrays indexed by the given axis will be flattened and treated\n",
      "        as the elements of a 1-D array with the dimension of the given axis,\n",
      "        see the notes for more details.  Object arrays or structured arrays\n",
      "        that contain objects are not supported if the `axis` kwarg is used. The\n",
      "        default is None.\n",
      "    \n",
      "        .. versionadded:: 1.13.0\n",
      "    \n",
      "    Returns\n",
      "    -------\n",
      "    unique : ndarray\n",
      "        The sorted unique values.\n",
      "    unique_indices : ndarray, optional\n",
      "        The indices of the first occurrences of the unique values in the\n",
      "        original array. Only provided if `return_index` is True.\n",
      "    unique_inverse : ndarray, optional\n",
      "        The indices to reconstruct the original array from the\n",
      "        unique array. Only provided if `return_inverse` is True.\n",
      "    unique_counts : ndarray, optional\n",
      "        The number of times each of the unique values comes up in the\n",
      "        original array. Only provided if `return_counts` is True.\n",
      "    \n",
      "        .. versionadded:: 1.9.0\n",
      "    \n",
      "    See Also\n",
      "    --------\n",
      "    numpy.lib.arraysetops : Module with a number of other functions for\n",
      "                            performing set operations on arrays.\n",
      "    repeat : Repeat elements of an array.\n",
      "    \n",
      "    Notes\n",
      "    -----\n",
      "    When an axis is specified the subarrays indexed by the axis are sorted.\n",
      "    This is done by making the specified axis the first dimension of the array\n",
      "    (move the axis to the first dimension to keep the order of the other axes)\n",
      "    and then flattening the subarrays in C order. The flattened subarrays are\n",
      "    then viewed as a structured type with each element given a label, with the\n",
      "    effect that we end up with a 1-D array of structured types that can be\n",
      "    treated in the same way as any other 1-D array. The result is that the\n",
      "    flattened subarrays are sorted in lexicographic order starting with the\n",
      "    first element.\n",
      "    \n",
      "    .. versionchanged: NumPy 1.21\n",
      "        If nan values are in the input array, a single nan is put\n",
      "        to the end of the sorted unique values.\n",
      "    \n",
      "        Also for complex arrays all NaN values are considered equivalent\n",
      "        (no matter whether the NaN is in the real or imaginary part).\n",
      "        As the representant for the returned array the smallest one in the\n",
      "        lexicographical order is chosen - see np.sort for how the lexicographical\n",
      "        order is defined for complex arrays.\n",
      "    \n",
      "    Examples\n",
      "    --------\n",
      "    >>> np.unique([1, 1, 2, 2, 3, 3])\n",
      "    array([1, 2, 3])\n",
      "    >>> a = np.array([[1, 1], [2, 3]])\n",
      "    >>> np.unique(a)\n",
      "    array([1, 2, 3])\n",
      "    \n",
      "    Return the unique rows of a 2D array\n",
      "    \n",
      "    >>> a = np.array([[1, 0, 0], [1, 0, 0], [2, 3, 4]])\n",
      "    >>> np.unique(a, axis=0)\n",
      "    array([[1, 0, 0], [2, 3, 4]])\n",
      "    \n",
      "    Return the indices of the original array that give the unique values:\n",
      "    \n",
      "    >>> a = np.array(['a', 'b', 'b', 'c', 'a'])\n",
      "    >>> u, indices = np.unique(a, return_index=True)\n",
      "    >>> u\n",
      "    array(['a', 'b', 'c'], dtype='<U1')\n",
      "    >>> indices\n",
      "    array([0, 1, 3])\n",
      "    >>> a[indices]\n",
      "    array(['a', 'b', 'c'], dtype='<U1')\n",
      "    \n",
      "    Reconstruct the input array from the unique values and inverse:\n",
      "    \n",
      "    >>> a = np.array([1, 2, 6, 4, 2, 3, 2])\n",
      "    >>> u, indices = np.unique(a, return_inverse=True)\n",
      "    >>> u\n",
      "    array([1, 2, 3, 4, 6])\n",
      "    >>> indices\n",
      "    array([0, 1, 4, 3, 1, 2, 1])\n",
      "    >>> u[indices]\n",
      "    array([1, 2, 6, 4, 2, 3, 2])\n",
      "    \n",
      "    Reconstruct the input values from the unique values and counts:\n",
      "    \n",
      "    >>> a = np.array([1, 2, 6, 4, 2, 3, 2])\n",
      "    >>> values, counts = np.unique(a, return_counts=True)\n",
      "    >>> values\n",
      "    array([1, 2, 3, 4, 6])\n",
      "    >>> counts\n",
      "    array([1, 3, 1, 1, 1])\n",
      "    >>> np.repeat(values, counts)\n",
      "    array([1, 2, 2, 2, 3, 4, 6])    # original order not preserved\n",
      "\n"
     ]
    }
   ],
   "source": [
    "help(np.unique)"
   ]
  },
  {
   "cell_type": "markdown",
   "id": "8211870d",
   "metadata": {},
   "source": [
    "# Fatiando a dimensão "
   ]
  },
  {
   "cell_type": "markdown",
   "id": "c1f8cdb1",
   "metadata": {},
   "source": [
    "Vamos supor que nos temo esse dados"
   ]
  },
  {
   "cell_type": "code",
   "execution_count": 46,
   "id": "19224945",
   "metadata": {},
   "outputs": [
    {
     "name": "stdout",
     "output_type": "stream",
     "text": [
      "[[[255   0   0]\n",
      "  [255 255   0]\n",
      "  [255 255 255]]\n",
      "\n",
      " [[255   0 255]\n",
      "  [  0 255   0]\n",
      "  [  0 255 255]]\n",
      "\n",
      " [[  0   0   0]\n",
      "  [  0 255 255]\n",
      "  [  0   0 255]]]\n"
     ]
    }
   ],
   "source": [
    "rgb = np.array([[[255, 0, 0], [255, 255, 0], [255, 255, 255]],\n",
    "[[255, 0, 255], [0, 255, 0], [0, 255, 255]],\n",
    "[[0, 0, 0], [0, 255, 255], [0, 0, 255]]])\n",
    "\n",
    "print(rgb)"
   ]
  },
  {
   "cell_type": "markdown",
   "id": "daa30e99",
   "metadata": {},
   "source": [
    "queremos separa dessa forma"
   ]
  },
  {
   "cell_type": "code",
   "execution_count": 47,
   "id": "a9d153e3",
   "metadata": {},
   "outputs": [
    {
     "data": {
      "text/plain": [
       "array([[255, 255, 255],\n",
       "       [255,   0,   0],\n",
       "       [  0,   0,   0]])"
      ]
     },
     "execution_count": 47,
     "metadata": {},
     "output_type": "execute_result"
    }
   ],
   "source": [
    "red_array = rgb[:, :, 0]\n",
    "green_array = rgb[:, :, 1]\n",
    "blue_array = rgb[:, :, 2]\n",
    "red_array"
   ]
  },
  {
   "cell_type": "markdown",
   "id": "9f679f48",
   "metadata": {},
   "source": [
    "podemos usar split para facilitar"
   ]
  },
  {
   "cell_type": "code",
   "execution_count": 48,
   "id": "d5e5d8d4",
   "metadata": {},
   "outputs": [
    {
     "data": {
      "text/plain": [
       "array([[[255],\n",
       "        [255],\n",
       "        [255]],\n",
       "\n",
       "       [[255],\n",
       "        [  0],\n",
       "        [  0]],\n",
       "\n",
       "       [[  0],\n",
       "        [  0],\n",
       "        [  0]]])"
      ]
     },
     "execution_count": 48,
     "metadata": {},
     "output_type": "execute_result"
    }
   ],
   "source": [
    "red_array, green_array, blue_array = np.split(rgb, 3, axis=2)\n",
    "red_array"
   ]
  },
  {
   "cell_type": "markdown",
   "id": "0d048a4f",
   "metadata": {},
   "source": [
    "Bom  na verdade ainda não esta igual, pois temos uma dimensão a mais"
   ]
  },
  {
   "cell_type": "code",
   "execution_count": 49,
   "id": "e0464479",
   "metadata": {},
   "outputs": [
    {
     "data": {
      "text/plain": [
       "(3, 3, 1)"
      ]
     },
     "execution_count": 49,
     "metadata": {},
     "output_type": "execute_result"
    }
   ],
   "source": [
    "red_array.shape"
   ]
  },
  {
   "cell_type": "markdown",
   "id": "403f3b5d",
   "metadata": {},
   "source": [
    "vamos resolver retirando "
   ]
  },
  {
   "cell_type": "code",
   "execution_count": 50,
   "id": "1f84b5f2",
   "metadata": {},
   "outputs": [
    {
     "data": {
      "text/plain": [
       "array([[255, 255, 255],\n",
       "       [255,   0,   0],\n",
       "       [  0,   0,   0]])"
      ]
     },
     "execution_count": 50,
     "metadata": {},
     "output_type": "execute_result"
    }
   ],
   "source": [
    "red_array_2D = red_array.reshape((3, 3))\n",
    "red_array_2D"
   ]
  },
  {
   "cell_type": "markdown",
   "id": "649e3834",
   "metadata": {},
   "source": [
    "## Desfatiando "
   ]
  },
  {
   "cell_type": "code",
   "execution_count": 51,
   "id": "818df83b",
   "metadata": {},
   "outputs": [],
   "source": [
    "rgb = np.stack([red_array, green_array, blue_array], axis=2)"
   ]
  },
  {
   "cell_type": "code",
   "execution_count": null,
   "id": "f54cd880",
   "metadata": {},
   "outputs": [],
   "source": []
  }
 ],
 "metadata": {
  "kernelspec": {
   "display_name": "Python 3 (ipykernel)",
   "language": "python",
   "name": "python3"
  },
  "language_info": {
   "codemirror_mode": {
    "name": "ipython",
    "version": 3
   },
   "file_extension": ".py",
   "mimetype": "text/x-python",
   "name": "python",
   "nbconvert_exporter": "python",
   "pygments_lexer": "ipython3",
   "version": "3.10.12"
  }
 },
 "nbformat": 4,
 "nbformat_minor": 5
}
