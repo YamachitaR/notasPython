{
 "cells": [
  {
   "cell_type": "markdown",
   "metadata": {},
   "source": [
    "[![Open In Colab](https://colab.research.google.com/assets/colab-badge.svg)](https://colab.research.google.com/github/YamachitaR/notasPython/blob/main/Strings.ipynb)"
   ]
  },
  {
   "cell_type": "markdown",
   "metadata": {},
   "source": [
    "\n",
    "\n"
   ]
  },
  {
   "cell_type": "markdown",
   "metadata": {},
   "source": [
    "# Introdução "
   ]
  },
  {
   "cell_type": "markdown",
   "metadata": {},
   "source": [
    "Gráficos de barra são indicados para representar dados categóricos ou discretos, nos quais as categorias ou grupos são representados no eixo horizontal (eixo X) e as quantidades, valores ou frequências são representados no eixo vertical (eixo Y).\n",
    "\n",
    "Os gráficos de barra são eficazes para comparar diferentes categorias entre si ou para acompanhar as mudanças em uma categoria ao longo do tempo. Eles fornecem uma representação visual clara das diferenças de tamanho ou magnitude entre as categorias.\n",
    "\n",
    "Aqui estão alguns exemplos de dados que podem ser representados em gráficos de barra:\n",
    "\n",
    "1. Comparação de vendas de produtos ou serviços em diferentes regiões geográficas.\n",
    "2. Classificação de preferências de consumo, como sabores de sorvete mais populares ou marcas de refrigerante mais vendidas.\n",
    "3. Representação de frequências de respostas em pesquisas, como a quantidade de pessoas que selecionaram cada opção de resposta.\n",
    "4. Comparação de desempenho acadêmico de diferentes alunos ou turmas em diferentes disciplinas.\n",
    "5. Monitoramento de indicadores financeiros, como receita por trimestre ou despesas por categoria.\n",
    "\n",
    "Lembre-se de que a escolha do gráfico mais adequado depende do objetivo da visualização e da natureza dos dados que você deseja representar. É importante considerar também o contexto e a mensagem que você pretende transmitir com o gráfico."
   ]
  },
  {
   "cell_type": "markdown",
   "metadata": {},
   "source": [
    "## Instalação "
   ]
  },
  {
   "cell_type": "markdown",
   "metadata": {},
   "source": [
    "pip install"
   ]
  },
  {
   "cell_type": "markdown",
   "metadata": {},
   "source": [
    "# Exemplo Simples"
   ]
  },
  {
   "cell_type": "code",
   "execution_count": 14,
   "metadata": {},
   "outputs": [
    {
     "data": {
      "image/png": "[encoded data removed]",
      "text/plain": [
       "<Figure size 432x288 with 1 Axes>"
      ]
     },
     "metadata": {
      "needs_background": "light"
     },
     "output_type": "display_data"
    }
   ],
   "source": [
    "# Exemplo simples\n",
    "import matplotlib.pyplot as plt\n",
    "\n",
    "# Dados de exemplo\n",
    "categorias = ['A', 'B', 'C', 'D']\n",
    "valores = [20, 35, 30, 15]\n",
    "\n",
    "# Criação do gráfico de Coluna\n",
    "plt.bar(categorias, valores)\n",
    "\n",
    "# Configurações do gráfico\n",
    "plt.xlabel('Categorias')\n",
    "plt.ylabel('Valores')\n",
    "plt.title('Gráfico de Coluna')\n",
    "\n",
    "# Exibição do gráfico\n",
    "plt.show()\n",
    "\n"
   ]
  },
  {
   "cell_type": "code",
   "execution_count": 13,
   "metadata": {},
   "outputs": [
    {
     "data": {
      "image/png": "[encoded data removed]",
      "text/plain": [
       "<Figure size 432x288 with 1 Axes>"
      ]
     },
     "metadata": {
      "needs_background": "light"
     },
     "output_type": "display_data"
    }
   ],
   "source": [
    "# Exemplo simples\n",
    "import matplotlib.pyplot as plt\n",
    "\n",
    "# Dados de exemplo\n",
    "categorias = ['A', 'B', 'C', 'D']\n",
    "valores = [20, 35, 30, 15]\n",
    "\n",
    "# Criação do gráfico de barras\n",
    "plt.barh(categorias, valores)\n",
    "\n",
    "# Configurações do gráfico\n",
    "plt.xlabel('Categorias')\n",
    "plt.ylabel('Valores')\n",
    "plt.title('Gráfico de Barras')\n",
    "\n",
    "# Exibição do gráfico\n",
    "plt.show()"
   ]
  },
  {
   "cell_type": "markdown",
   "metadata": {},
   "source": [
    "## Diferença entre barh e bar \n",
    "Observação:\n",
    "- plt.barh = Barra -> horizontal \n",
    "- plt.bar =  Coluna -> vertical"
   ]
  },
  {
   "cell_type": "markdown",
   "metadata": {},
   "source": [
    "# Gráfico agrupado \n",
    "\n",
    "Seria no mesmo retangulo ter mais de uma informação embutido "
   ]
  },
  {
   "cell_type": "code",
   "execution_count": 15,
   "metadata": {},
   "outputs": [
    {
     "data": {
      "image/png": "[encoded data removed]",
      "text/plain": [
       "<Figure size 432x288 with 1 Axes>"
      ]
     },
     "metadata": {
      "needs_background": "light"
     },
     "output_type": "display_data"
    }
   ],
   "source": [
    "import matplotlib.pyplot as plt\n",
    "\n",
    "# Dados de exemplo\n",
    "mes = ['JAN', 'FEV', 'MAR', 'ABR']\n",
    "masculino = [20, 35, 30, 15]\n",
    "feminino = [25, 45, 10, 9]\n",
    "\n",
    "# Criação do gráfico\n",
    "plt.bar(mes, masculino)\n",
    "plt.bar(mes, feminino, bottom=masculino)\n",
    "\n",
    "# Configurações do gráfico\n",
    "plt.xlabel('mes')\n",
    "plt.ylabel('Quantidade')\n",
    "plt.title('Gráfico de Nascimento')\n",
    "\n",
    "# Exibição do gráfico\n",
    "plt.show()"
   ]
  },
  {
   "cell_type": "code",
   "execution_count": 19,
   "metadata": {},
   "outputs": [
    {
     "data": {
      "image/png": "[encoded data removed]",
      "text/plain": [
       "<Figure size 432x288 with 1 Axes>"
      ]
     },
     "metadata": {
      "needs_background": "light"
     },
     "output_type": "display_data"
    }
   ],
   "source": [
    "import matplotlib.pyplot as plt\n",
    "\n",
    "# Dados de exemplo\n",
    "mes = ['JAN', 'FEV', 'MAR', 'ABR']\n",
    "masculino = [20, 35, 30, 15]\n",
    "feminino = [25, 45, 10, 9]\n",
    "\n",
    "# Criação do gráfico \n",
    "plt.barh(mes, masculino)\n",
    "plt.barh(mes, feminino, left=masculino)\n",
    "\n",
    "# Configurações do gráfico\n",
    "plt.xlabel('mes')\n",
    "plt.ylabel('Quantidade')\n",
    "plt.title('Gráfico de Nascimento')\n",
    "\n",
    "# Exibição do gráfico\n",
    "plt.show()"
   ]
  },
  {
   "cell_type": "markdown",
   "metadata": {},
   "source": [
    "**Repare no código a palavra \"bottom\" (para coluna) e \"left\" (p/barra)**"
   ]
  },
  {
   "cell_type": "markdown",
   "metadata": {},
   "source": [
    "##  mais de um agrupado \n",
    "\n",
    "Segue a mesma logica .."
   ]
  },
  {
   "cell_type": "code",
   "execution_count": 27,
   "metadata": {},
   "outputs": [
    {
     "data": {
      "image/png": "[encoded data removed]",
      "text/plain": [
       "<Figure size 432x288 with 1 Axes>"
      ]
     },
     "metadata": {
      "needs_background": "light"
     },
     "output_type": "display_data"
    }
   ],
   "source": [
    "import matplotlib.pyplot as plt\n",
    "import pandas as pd\n",
    "\n",
    "# Dados de exemplo\n",
    "dic  = {'mes': ['JAN', 'FEV', 'MAR', 'ABR'],\n",
    "        'masculino' : [20, 35, 30, 15],\n",
    "        'feminino' : [25, 45, 10, 9],\n",
    "        'morto' : [6, 3, 5, 3]}\n",
    "\n",
    "pf = pd.DataFrame(dic)\n",
    "\n",
    "# Criação do gráfico de barras\n",
    "plt.bar(pf.mes, pf.masculino)\n",
    "plt.bar(pf.mes, pf.feminino, bottom= pf.masculino)\n",
    "plt.bar(pf.mes, pf.morto, bottom=pf.masculino+pf.feminino)\n",
    "\n",
    "# Configurações do gráfico\n",
    "plt.xlabel('mes')\n",
    "plt.ylabel('Quantidade')\n",
    "plt.title('Gráfico de Nascimento')\n",
    "\n",
    "# Exibição do gráfico\n",
    "plt.show()"
   ]
  },
  {
   "cell_type": "markdown",
   "metadata": {},
   "source": [
    "**Obs:** Só conseguir fazer usando DataFrame, somente com lista deu errado com mais de um agrupamento "
   ]
  },
  {
   "cell_type": "markdown",
   "metadata": {},
   "source": [
    "# Legenda "
   ]
  },
  {
   "cell_type": "markdown",
   "metadata": {},
   "source": [
    "Para colocamos legenda presta atenção no nosso codigo no **label** e **plt.legend()**\n"
   ]
  },
  {
   "cell_type": "code",
   "execution_count": 28,
   "metadata": {},
   "outputs": [
    {
     "data": {
      "image/png": "[encoded data removed]",
      "text/plain": [
       "<Figure size 432x288 with 1 Axes>"
      ]
     },
     "metadata": {
      "needs_background": "light"
     },
     "output_type": "display_data"
    }
   ],
   "source": [
    "import matplotlib.pyplot as plt\n",
    "import pandas as pd\n",
    "\n",
    "# Dados de exemplo\n",
    "dic  = {'mes': ['JAN', 'FEV', 'MAR', 'ABR'],\n",
    "        'masculino' : [20, 35, 30, 15],\n",
    "        'feminino' : [25, 45, 10, 9],\n",
    "        'morto' : [6, 3, 5, 3]}\n",
    "\n",
    "pf = pd.DataFrame(dic)\n",
    "\n",
    "# Criação do gráfico de barras\n",
    "plt.bar(pf.mes, pf.masculino, label='Masculino')\n",
    "plt.bar(pf.mes, pf.feminino, bottom= pf.masculino, label='Feminino')\n",
    "plt.bar(pf.mes, pf.morto, bottom=pf.masculino+pf.feminino, label='Morte')\n",
    "\n",
    "# Configurações do gráfico\n",
    "plt.xlabel('mes')\n",
    "plt.ylabel('Quantidade')\n",
    "plt.title('Gráfico de Nascimento')\n",
    "\n",
    "#  importante para pode aparecer a legenda \n",
    "plt.legend()\n",
    "\n",
    "# Exibição do gráfico\n",
    "plt.show()"
   ]
  },
  {
   "cell_type": "code",
   "execution_count": null,
   "metadata": {},
   "outputs": [],
   "source": []
  },
  {
   "cell_type": "markdown",
   "metadata": {},
   "source": []
  },
  {
   "cell_type": "markdown",
   "metadata": {},
   "source": []
  },
  {
   "cell_type": "code",
   "execution_count": null,
   "metadata": {},
   "outputs": [],
   "source": []
  },
  {
   "cell_type": "markdown",
   "metadata": {},
   "source": []
  },
  {
   "cell_type": "code",
   "execution_count": null,
   "metadata": {},
   "outputs": [],
   "source": [
    "\n",
    "\n"
   ]
  },
  {
   "cell_type": "markdown",
   "metadata": {},
   "source": []
  },
  {
   "cell_type": "code",
   "execution_count": null,
   "metadata": {},
   "outputs": [],
   "source": [
    "\n",
    "    "
   ]
  },
  {
   "cell_type": "markdown",
   "metadata": {},
   "source": [
    "\n"
   ]
  },
  {
   "cell_type": "code",
   "execution_count": null,
   "metadata": {},
   "outputs": [],
   "source": [
    "\n"
   ]
  },
  {
   "cell_type": "markdown",
   "metadata": {},
   "source": []
  },
  {
   "cell_type": "markdown",
   "metadata": {},
   "source": []
  },
  {
   "cell_type": "code",
   "execution_count": null,
   "metadata": {},
   "outputs": [],
   "source": []
  },
  {
   "cell_type": "markdown",
   "metadata": {},
   "source": []
  },
  {
   "cell_type": "code",
   "execution_count": null,
   "metadata": {},
   "outputs": [],
   "source": []
  },
  {
   "cell_type": "markdown",
   "metadata": {},
   "source": []
  },
  {
   "cell_type": "markdown",
   "metadata": {},
   "source": []
  },
  {
   "cell_type": "code",
   "execution_count": null,
   "metadata": {},
   "outputs": [],
   "source": []
  },
  {
   "cell_type": "markdown",
   "metadata": {},
   "source": []
  },
  {
   "cell_type": "code",
   "execution_count": 41,
   "metadata": {},
   "outputs": [
    {
     "name": "stdout",
     "output_type": "stream",
     "text": [
      "Busque conhecimento \n",
      "ET Bilu\n",
      "['Busque conhecimento ', 'ET Bilu']\n"
     ]
    }
   ],
   "source": []
  },
  {
   "cell_type": "markdown",
   "metadata": {},
   "source": [
    "\n",
    "\n"
   ]
  },
  {
   "cell_type": "code",
   "execution_count": 34,
   "metadata": {},
   "outputs": [
    {
     "name": "stdout",
     "output_type": "stream",
     "text": [
      "['Busque', 'conhecimento,', 'estude', 'Geografia', '-', 'ET', 'Bilu']\n",
      "['Busque conhecimento, estude Geografia -', 'ET', 'Bilu']\n"
     ]
    }
   ],
   "source": []
  },
  {
   "cell_type": "markdown",
   "metadata": {},
   "source": []
  },
  {
   "cell_type": "code",
   "execution_count": 54,
   "metadata": {},
   "outputs": [
    {
     "name": "stdout",
     "output_type": "stream",
     "text": [
      "RicardoYoshio\n",
      "Ricardo          Yoshio\n",
      "Coelh\n",
      "oelhoooooooooooo\n",
      "squedeeeeeeeeeeee\n",
      "right\n"
     ]
    }
   ],
   "source": []
  },
  {
   "cell_type": "code",
   "execution_count": null,
   "metadata": {},
   "outputs": [],
   "source": []
  }
 ],
 "metadata": {
  "kernelspec": {
   "display_name": "Python 3 (ipykernel)",
   "language": "python",
   "name": "python3"
  },
  "language_info": {
   "codemirror_mode": {
    "name": "ipython",
    "version": 3
   },
   "file_extension": ".py",
   "mimetype": "text/x-python",
   "name": "python",
   "nbconvert_exporter": "python",
   "pygments_lexer": "ipython3",
   "version": "3.10.6"
  }
 },
 "nbformat": 4,
 "nbformat_minor": 2
}
