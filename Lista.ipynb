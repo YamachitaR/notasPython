{
 "cells": [
  {
   "cell_type": "markdown",
   "id": "c7e9b6d5",
   "metadata": {},
   "source": [
    "# Lista"
   ]
  },
  {
   "cell_type": "markdown",
   "id": "dd36d0d3",
   "metadata": {},
   "source": [
    "[![Open In Colab](https://colab.research.google.com/assets/colab-badge.svg)](https://colab.research.google.com/github/YamachitaR/notasPython/blob/main/Lista.ipynb)"
   ]
  },
  {
   "cell_type": "markdown",
   "id": "3b148bab",
   "metadata": {},
   "source": [
    "## Criando "
   ]
  },
  {
   "cell_type": "code",
   "execution_count": 1,
   "id": "454e8fec",
   "metadata": {},
   "outputs": [],
   "source": [
    "#lista vazio\n",
    "vazio =[]\n",
    "\n",
    "# lista é composto entre [], os elementos e colocando é separado por virgura \n",
    "\n",
    "nome = [\"Ricardo\", \"Letícia\", \"Roberto\", \"Fatíma\"]"
   ]
  },
  {
   "cell_type": "markdown",
   "id": "51026817",
   "metadata": {},
   "source": [
    "## Acessando o elemento "
   ]
  },
  {
   "cell_type": "code",
   "execution_count": 2,
   "id": "1502263e",
   "metadata": {},
   "outputs": [
    {
     "data": {
      "text/plain": [
       "'Ricardo'"
      ]
     },
     "execution_count": 2,
     "metadata": {},
     "output_type": "execute_result"
    }
   ],
   "source": [
    "nome[0] # primeiro elemento "
   ]
  },
  {
   "cell_type": "code",
   "execution_count": 3,
   "id": "534ededa",
   "metadata": {},
   "outputs": [
    {
     "data": {
      "text/plain": [
       "'Fatíma'"
      ]
     },
     "execution_count": 3,
     "metadata": {},
     "output_type": "execute_result"
    }
   ],
   "source": [
    "nome[-1] # acessa o ultimo elemento, numero negativo conta de traz para frente "
   ]
  },
  {
   "cell_type": "code",
   "execution_count": 7,
   "id": "c9158900",
   "metadata": {},
   "outputs": [
    {
     "data": {
      "text/plain": [
       "['Letícia', 'Roberto']"
      ]
     },
     "execution_count": 7,
     "metadata": {},
     "output_type": "execute_result"
    }
   ],
   "source": [
    "nome[1:3] # acessa intervalo do segundo ate o 3 elemento "
   ]
  },
  {
   "cell_type": "code",
   "execution_count": 8,
   "id": "70760dea",
   "metadata": {},
   "outputs": [
    {
     "data": {
      "text/plain": [
       "['Ricardo', 'Letícia', 'Roberto', 'Fatíma']"
      ]
     },
     "execution_count": 8,
     "metadata": {},
     "output_type": "execute_result"
    }
   ],
   "source": [
    "nome[:4] # primeiro ate o 4 elemento "
   ]
  },
  {
   "cell_type": "code",
   "execution_count": 9,
   "id": "650885a3",
   "metadata": {},
   "outputs": [
    {
     "data": {
      "text/plain": [
       "['Roberto', 'Fatíma']"
      ]
     },
     "execution_count": 9,
     "metadata": {},
     "output_type": "execute_result"
    }
   ],
   "source": [
    "nome[2:] # segundo ate o ultimo elemento "
   ]
  },
  {
   "cell_type": "markdown",
   "id": "fb01845c",
   "metadata": {},
   "source": [
    "# Removendo elemento"
   ]
  },
  {
   "cell_type": "code",
   "execution_count": 10,
   "id": "38f1d971",
   "metadata": {},
   "outputs": [],
   "source": [
    "del nome[3] # vai eleminar o 4º elemento "
   ]
  },
  {
   "cell_type": "markdown",
   "id": "cac2c776",
   "metadata": {},
   "source": [
    "## Adicionando Elemento "
   ]
  },
  {
   "cell_type": "code",
   "execution_count": 11,
   "id": "f6415695",
   "metadata": {},
   "outputs": [],
   "source": [
    "nome.append(\"Fatíma\")\n",
    "\n",
    "nome.extend([\"Marćia\", \"Josué\"])"
   ]
  },
  {
   "cell_type": "markdown",
   "id": "b51b51f2",
   "metadata": {},
   "source": [
    "## Quantidade de Elemento da lista  "
   ]
  },
  {
   "cell_type": "code",
   "execution_count": 14,
   "id": "69119bd3",
   "metadata": {},
   "outputs": [
    {
     "data": {
      "text/plain": [
       "6"
      ]
     },
     "execution_count": 14,
     "metadata": {},
     "output_type": "execute_result"
    }
   ],
   "source": [
    "len(nome)"
   ]
  },
  {
   "cell_type": "markdown",
   "id": "3b390e60",
   "metadata": {},
   "source": [
    "## Descobrindo o índice "
   ]
  },
  {
   "cell_type": "code",
   "execution_count": 23,
   "id": "601a5113",
   "metadata": {},
   "outputs": [
    {
     "data": {
      "text/plain": [
       "3"
      ]
     },
     "execution_count": 23,
     "metadata": {},
     "output_type": "execute_result"
    }
   ],
   "source": [
    "nome.index(\"Ricardo\")\n"
   ]
  },
  {
   "cell_type": "code",
   "execution_count": 24,
   "id": "0268ae42",
   "metadata": {},
   "outputs": [
    {
     "ename": "ValueError",
     "evalue": "'Carlos' is not in list",
     "output_type": "error",
     "traceback": [
      "\u001b[0;31m---------------------------------------------------------------------------\u001b[0m",
      "\u001b[0;31mValueError\u001b[0m                                Traceback (most recent call last)",
      "Cell \u001b[0;32mIn [24], line 1\u001b[0m\n\u001b[0;32m----> 1\u001b[0m \u001b[43mnome\u001b[49m\u001b[38;5;241;43m.\u001b[39;49m\u001b[43mindex\u001b[49m\u001b[43m(\u001b[49m\u001b[38;5;124;43m\"\u001b[39;49m\u001b[38;5;124;43mCarlos\u001b[39;49m\u001b[38;5;124;43m\"\u001b[39;49m\u001b[43m)\u001b[49m\n",
      "\u001b[0;31mValueError\u001b[0m: 'Carlos' is not in list"
     ]
    }
   ],
   "source": [
    "nome.index(\"Carlos\") # da erro quando não encontra"
   ]
  },
  {
   "cell_type": "code",
   "execution_count": 22,
   "id": "91888b7e",
   "metadata": {},
   "outputs": [
    {
     "name": "stdout",
     "output_type": "stream",
     "text": [
      "Não encontrado \n"
     ]
    }
   ],
   "source": [
    "#alternativa para não quebrar o nosso código \n",
    "try:\n",
    "    print(nome.index(\"Carlos\"))\n",
    "except ValueError:\n",
    "    print(\"Não encontrado \")"
   ]
  },
  {
   "cell_type": "markdown",
   "id": "4009ff68",
   "metadata": {},
   "source": [
    "## Ordenando elemento da lista "
   ]
  },
  {
   "cell_type": "code",
   "execution_count": 17,
   "id": "b74b958f",
   "metadata": {},
   "outputs": [],
   "source": [
    "nome.sort()\n",
    "nome[:]"
   ]
  },
  {
   "cell_type": "code",
   "execution_count": 18,
   "id": "dfb90258",
   "metadata": {},
   "outputs": [
    {
     "data": {
      "text/plain": [
       "['Josué', 'Letícia', 'Marćia', 'Ricardo', 'Roberto', 'Roberto']"
      ]
     },
     "execution_count": 18,
     "metadata": {},
     "output_type": "execute_result"
    }
   ],
   "source": []
  },
  {
   "cell_type": "code",
   "execution_count": null,
   "id": "9c832f1f",
   "metadata": {},
   "outputs": [],
   "source": []
  }
 ],
 "metadata": {
  "kernelspec": {
   "display_name": "Python 3 (ipykernel)",
   "language": "python",
   "name": "python3"
  },
  "language_info": {
   "codemirror_mode": {
    "name": "ipython",
    "version": 3
   },
   "file_extension": ".py",
   "mimetype": "text/x-python",
   "name": "python",
   "nbconvert_exporter": "python",
   "pygments_lexer": "ipython3",
   "version": "3.10.6"
  }
 },
 "nbformat": 4,
 "nbformat_minor": 5
}
