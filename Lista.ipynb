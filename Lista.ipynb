{
 "cells": [
  {
   "cell_type": "markdown",
   "id": "f3fd291f",
   "metadata": {},
   "source": [
    "[![Open In Colab](https://colab.research.google.com/assets/colab-badge.svg)](https://colab.research.google.com/github/YamachitaR/notasPython/blob/main/Lista.ipynb)"
   ]
  },
  {
   "cell_type": "markdown",
   "id": "368c7346",
   "metadata": {},
   "source": [
    "# Lista"
   ]
  },
  {
   "cell_type": "markdown",
   "id": "3c5e35db",
   "metadata": {},
   "source": [
    "## Criando "
   ]
  },
  {
   "cell_type": "code",
   "execution_count": 1,
   "id": "017f75a8",
   "metadata": {},
   "outputs": [],
   "source": [
    "#lista vazio\n",
    "vazio =[]\n",
    "\n",
    "# lista é composto entre [], os elementos e colocando é separado por virgura \n",
    "\n",
    "nome = [\"Ricardo\", \"Letícia\", \"Roberto\", \"Fatíma\"]"
   ]
  },
  {
   "cell_type": "markdown",
   "id": "b08b2ba2",
   "metadata": {},
   "source": [
    "## Acessando o elemento "
   ]
  },
  {
   "cell_type": "code",
   "execution_count": 2,
   "id": "3585f7b7",
   "metadata": {},
   "outputs": [
    {
     "data": {
      "text/plain": [
       "'Ricardo'"
      ]
     },
     "execution_count": 2,
     "metadata": {},
     "output_type": "execute_result"
    }
   ],
   "source": [
    "nome[0] # primeiro elemento "
   ]
  },
  {
   "cell_type": "code",
   "execution_count": 3,
   "id": "7d69c261",
   "metadata": {},
   "outputs": [
    {
     "data": {
      "text/plain": [
       "'Fatíma'"
      ]
     },
     "execution_count": 3,
     "metadata": {},
     "output_type": "execute_result"
    }
   ],
   "source": [
    "nome[-1] # acessa o ultimo elemento, numero negativo conta de traz para frente "
   ]
  },
  {
   "cell_type": "code",
   "execution_count": 7,
   "id": "b447ea99",
   "metadata": {},
   "outputs": [
    {
     "data": {
      "text/plain": [
       "['Letícia', 'Roberto']"
      ]
     },
     "execution_count": 7,
     "metadata": {},
     "output_type": "execute_result"
    }
   ],
   "source": [
    "nome[1:3] # acessa intervalo do segundo ate o 3 elemento "
   ]
  },
  {
   "cell_type": "code",
   "execution_count": 8,
   "id": "0479466f",
   "metadata": {},
   "outputs": [
    {
     "data": {
      "text/plain": [
       "['Ricardo', 'Letícia', 'Roberto', 'Fatíma']"
      ]
     },
     "execution_count": 8,
     "metadata": {},
     "output_type": "execute_result"
    }
   ],
   "source": [
    "nome[:4] # primeiro ate o 4 elemento "
   ]
  },
  {
   "cell_type": "code",
   "execution_count": 9,
   "id": "78c73a5c",
   "metadata": {},
   "outputs": [
    {
     "data": {
      "text/plain": [
       "['Roberto', 'Fatíma']"
      ]
     },
     "execution_count": 9,
     "metadata": {},
     "output_type": "execute_result"
    }
   ],
   "source": [
    "nome[2:] # segundo ate o ultimo elemento "
   ]
  },
  {
   "cell_type": "markdown",
   "id": "90013c1a",
   "metadata": {},
   "source": [
    "# Removendo elemento"
   ]
  },
  {
   "cell_type": "code",
   "execution_count": 10,
   "id": "ebce4da4",
   "metadata": {},
   "outputs": [],
   "source": [
    "del nome[3] # vai eleminar o 4º elemento "
   ]
  },
  {
   "cell_type": "markdown",
   "id": "5ad94f7a",
   "metadata": {},
   "source": [
    "## Adicionando Elemento "
   ]
  },
  {
   "cell_type": "code",
   "execution_count": 11,
   "id": "423478e9",
   "metadata": {},
   "outputs": [],
   "source": [
    "nome.append(\"Fatíma\")\n",
    "\n",
    "nome.extend([\"Marćia\", \"Josué\"])"
   ]
  },
  {
   "cell_type": "markdown",
   "id": "2bb06ccf",
   "metadata": {},
   "source": [
    "## Quantidade de Elemento da lista  "
   ]
  },
  {
   "cell_type": "code",
   "execution_count": 14,
   "id": "b41b1c66",
   "metadata": {},
   "outputs": [
    {
     "data": {
      "text/plain": [
       "6"
      ]
     },
     "execution_count": 14,
     "metadata": {},
     "output_type": "execute_result"
    }
   ],
   "source": [
    "len(nome)"
   ]
  },
  {
   "cell_type": "markdown",
   "id": "0eac4229",
   "metadata": {},
   "source": [
    "## Descobrindo o índice "
   ]
  },
  {
   "cell_type": "code",
   "execution_count": 23,
   "id": "260067be",
   "metadata": {},
   "outputs": [
    {
     "data": {
      "text/plain": [
       "3"
      ]
     },
     "execution_count": 23,
     "metadata": {},
     "output_type": "execute_result"
    }
   ],
   "source": [
    "nome.index(\"Ricardo\")\n"
   ]
  },
  {
   "cell_type": "code",
   "execution_count": 24,
   "id": "17702cfe",
   "metadata": {},
   "outputs": [
    {
     "ename": "ValueError",
     "evalue": "'Carlos' is not in list",
     "output_type": "error",
     "traceback": [
      "\u001b[0;31m---------------------------------------------------------------------------\u001b[0m",
      "\u001b[0;31mValueError\u001b[0m                                Traceback (most recent call last)",
      "Cell \u001b[0;32mIn [24], line 1\u001b[0m\n\u001b[0;32m----> 1\u001b[0m \u001b[43mnome\u001b[49m\u001b[38;5;241;43m.\u001b[39;49m\u001b[43mindex\u001b[49m\u001b[43m(\u001b[49m\u001b[38;5;124;43m\"\u001b[39;49m\u001b[38;5;124;43mCarlos\u001b[39;49m\u001b[38;5;124;43m\"\u001b[39;49m\u001b[43m)\u001b[49m\n",
      "\u001b[0;31mValueError\u001b[0m: 'Carlos' is not in list"
     ]
    }
   ],
   "source": [
    "nome.index(\"Carlos\") # da erro quando não encontra"
   ]
  },
  {
   "cell_type": "code",
   "execution_count": 22,
   "id": "79e9d390",
   "metadata": {},
   "outputs": [
    {
     "name": "stdout",
     "output_type": "stream",
     "text": [
      "Não encontrado \n"
     ]
    }
   ],
   "source": [
    "#alternativa para não quebrar o nosso código \n",
    "try:\n",
    "    print(nome.index(\"Carlos\"))\n",
    "except ValueError:\n",
    "    print(\"Não encontrado \")"
   ]
  },
  {
   "cell_type": "markdown",
   "id": "fc6ffdeb",
   "metadata": {},
   "source": [
    "## Ordenando elemento da lista "
   ]
  },
  {
   "cell_type": "code",
   "execution_count": 17,
   "id": "3b3b49e3",
   "metadata": {},
   "outputs": [],
   "source": [
    "nome.sort()\n",
    "nome[:]"
   ]
  },
  {
   "cell_type": "code",
   "execution_count": 18,
   "id": "ba80a1c5",
   "metadata": {},
   "outputs": [
    {
     "data": {
      "text/plain": [
       "['Josué', 'Letícia', 'Marćia', 'Ricardo', 'Roberto', 'Roberto']"
      ]
     },
     "execution_count": 18,
     "metadata": {},
     "output_type": "execute_result"
    }
   ],
   "source": []
  },
  {
   "cell_type": "code",
   "execution_count": null,
   "id": "e66ae85d",
   "metadata": {},
   "outputs": [],
   "source": []
  }
 ],
 "metadata": {
  "kernelspec": {
   "display_name": "Python 3 (ipykernel)",
   "language": "python",
   "name": "python3"
  },
  "language_info": {
   "codemirror_mode": {
    "name": "ipython",
    "version": 3
   },
   "file_extension": ".py",
   "mimetype": "text/x-python",
   "name": "python",
   "nbconvert_exporter": "python",
   "pygments_lexer": "ipython3",
   "version": "3.10.6"
  }
 },
 "nbformat": 4,
 "nbformat_minor": 5
}
