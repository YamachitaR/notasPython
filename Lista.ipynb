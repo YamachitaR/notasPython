{
 "cells": [
  {
   "cell_type": "markdown",
   "id": "16e00ba8",
   "metadata": {},
   "source": [
    "# Lista"
   ]
  },
  {
   "cell_type": "code",
   "execution_count": null,
   "id": "32b7ab94",
   "metadata": {},
   "outputs": [],
   "source": []
  },
  {
   "cell_type": "markdown",
   "id": "39211e40",
   "metadata": {},
   "source": [
    "## Criando "
   ]
  },
  {
   "cell_type": "code",
   "execution_count": 1,
   "id": "573d7be2",
   "metadata": {},
   "outputs": [],
   "source": [
    "#lista vazio\n",
    "vazio =[]\n",
    "\n",
    "# lista é composto entre [], os elementos e colocando é separado por virgura \n",
    "\n",
    "nome = [\"Ricardo\", \"Letícia\", \"Roberto\", \"Fatíma\"]"
   ]
  },
  {
   "cell_type": "markdown",
   "id": "c78ddfac",
   "metadata": {},
   "source": [
    "## Acessando o elemento "
   ]
  },
  {
   "cell_type": "code",
   "execution_count": 2,
   "id": "61894f2d",
   "metadata": {},
   "outputs": [
    {
     "data": {
      "text/plain": [
       "'Ricardo'"
      ]
     },
     "execution_count": 2,
     "metadata": {},
     "output_type": "execute_result"
    }
   ],
   "source": [
    "nome[0] # primeiro elemento "
   ]
  },
  {
   "cell_type": "code",
   "execution_count": 3,
   "id": "5557d80d",
   "metadata": {},
   "outputs": [
    {
     "data": {
      "text/plain": [
       "'Fatíma'"
      ]
     },
     "execution_count": 3,
     "metadata": {},
     "output_type": "execute_result"
    }
   ],
   "source": [
    "nome[-1] # acessa o ultimo elemento, numero negativo conta de traz para frente "
   ]
  },
  {
   "cell_type": "code",
   "execution_count": 7,
   "id": "7fcacd70",
   "metadata": {},
   "outputs": [
    {
     "data": {
      "text/plain": [
       "['Letícia', 'Roberto']"
      ]
     },
     "execution_count": 7,
     "metadata": {},
     "output_type": "execute_result"
    }
   ],
   "source": [
    "nome[1:3] # acessa intervalo do segundo ate o 3 elemento "
   ]
  },
  {
   "cell_type": "code",
   "execution_count": 8,
   "id": "83734ff2",
   "metadata": {},
   "outputs": [
    {
     "data": {
      "text/plain": [
       "['Ricardo', 'Letícia', 'Roberto', 'Fatíma']"
      ]
     },
     "execution_count": 8,
     "metadata": {},
     "output_type": "execute_result"
    }
   ],
   "source": [
    "nome[:4] # primeiro ate o 4 elemento "
   ]
  },
  {
   "cell_type": "code",
   "execution_count": 9,
   "id": "2b7d7ce1",
   "metadata": {},
   "outputs": [
    {
     "data": {
      "text/plain": [
       "['Roberto', 'Fatíma']"
      ]
     },
     "execution_count": 9,
     "metadata": {},
     "output_type": "execute_result"
    }
   ],
   "source": [
    "nome[2:] # segundo ate o ultimo elemento "
   ]
  },
  {
   "cell_type": "markdown",
   "id": "d55a9d51",
   "metadata": {},
   "source": [
    "# Removendo elemento"
   ]
  },
  {
   "cell_type": "code",
   "execution_count": 10,
   "id": "59eab611",
   "metadata": {},
   "outputs": [],
   "source": [
    "del nome[3] # vai eleminar o 4º elemento "
   ]
  },
  {
   "cell_type": "markdown",
   "id": "9ac6d1da",
   "metadata": {},
   "source": [
    "## Adicionando Elemento "
   ]
  },
  {
   "cell_type": "code",
   "execution_count": 11,
   "id": "111f4723",
   "metadata": {},
   "outputs": [],
   "source": [
    "nome.append(\"Fatíma\")\n",
    "\n",
    "nome.extend([\"Marćia\", \"Josué\"])"
   ]
  },
  {
   "cell_type": "markdown",
   "id": "fddeaffa",
   "metadata": {},
   "source": [
    "## Quantidade de Elemento da lista  "
   ]
  },
  {
   "cell_type": "code",
   "execution_count": 14,
   "id": "47dd67d0",
   "metadata": {},
   "outputs": [
    {
     "data": {
      "text/plain": [
       "6"
      ]
     },
     "execution_count": 14,
     "metadata": {},
     "output_type": "execute_result"
    }
   ],
   "source": [
    "len(nome)"
   ]
  },
  {
   "cell_type": "markdown",
   "id": "2fa0a3cf",
   "metadata": {},
   "source": [
    "## Descobrindo o índice "
   ]
  },
  {
   "cell_type": "code",
   "execution_count": 16,
   "id": "436c98a5",
   "metadata": {},
   "outputs": [
    {
     "ename": "ValueError",
     "evalue": "'Carlos' is not in list",
     "output_type": "error",
     "traceback": [
      "\u001b[0;31m---------------------------------------------------------------------------\u001b[0m",
      "\u001b[0;31mValueError\u001b[0m                                Traceback (most recent call last)",
      "Cell \u001b[0;32mIn [16], line 2\u001b[0m\n\u001b[1;32m      1\u001b[0m nome\u001b[38;5;241m.\u001b[39mindex(\u001b[38;5;124m\"\u001b[39m\u001b[38;5;124mRicardo\u001b[39m\u001b[38;5;124m\"\u001b[39m)\n\u001b[0;32m----> 2\u001b[0m \u001b[43mnome\u001b[49m\u001b[38;5;241;43m.\u001b[39;49m\u001b[43mindex\u001b[49m\u001b[43m(\u001b[49m\u001b[38;5;124;43m\"\u001b[39;49m\u001b[38;5;124;43mCarlos\u001b[39;49m\u001b[38;5;124;43m\"\u001b[39;49m\u001b[43m)\u001b[49m\n",
      "\u001b[0;31mValueError\u001b[0m: 'Carlos' is not in list"
     ]
    }
   ],
   "source": [
    "nome.index(\"Ricardo\")\n"
   ]
  },
  {
   "cell_type": "code",
   "execution_count": null,
   "id": "b9bea0c7",
   "metadata": {},
   "outputs": [],
   "source": [
    "nome.index(\"Carlos\") # da erro quando não encontra"
   ]
  },
  {
   "cell_type": "markdown",
   "id": "8e447cb3",
   "metadata": {},
   "source": [
    "## Ordenando elemento da lista "
   ]
  },
  {
   "cell_type": "code",
   "execution_count": 17,
   "id": "72272469",
   "metadata": {},
   "outputs": [],
   "source": [
    "nome.sort()\n",
    "nome[:]"
   ]
  },
  {
   "cell_type": "code",
   "execution_count": 18,
   "id": "3b3497da",
   "metadata": {},
   "outputs": [
    {
     "data": {
      "text/plain": [
       "['Josué', 'Letícia', 'Marćia', 'Ricardo', 'Roberto', 'Roberto']"
      ]
     },
     "execution_count": 18,
     "metadata": {},
     "output_type": "execute_result"
    }
   ],
   "source": []
  },
  {
   "cell_type": "code",
   "execution_count": null,
   "id": "c499520c",
   "metadata": {},
   "outputs": [],
   "source": []
  }
 ],
 "metadata": {
  "kernelspec": {
   "display_name": "Python 3 (ipykernel)",
   "language": "python",
   "name": "python3"
  },
  "language_info": {
   "codemirror_mode": {
    "name": "ipython",
    "version": 3
   },
   "file_extension": ".py",
   "mimetype": "text/x-python",
   "name": "python",
   "nbconvert_exporter": "python",
   "pygments_lexer": "ipython3",
   "version": "3.10.6"
  }
 },
 "nbformat": 4,
 "nbformat_minor": 5
}
