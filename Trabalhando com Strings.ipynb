{
 "cells": [
  {
   "cell_type": "markdown",
   "metadata": {},
   "source": [
    "<a href=\"https://colab.research.google.com/github/googlecolab/colabtools/blob/master/notebooks/colab-github-demo.ipynb\">\n",
    "  <img src=\"https://colab.research.google.com/assets/colab-badge.svg\" alt=\"Open In Colab\"/>\n",
    "</a>"
   ]
  },
  {
   "cell_type": "markdown",
   "metadata": {},
   "source": [
    "\n",
    "\n"
   ]
  },
  {
   "cell_type": "markdown",
   "metadata": {},
   "source": [
    "# Básico "
   ]
  },
  {
   "cell_type": "code",
   "execution_count": null,
   "metadata": {},
   "outputs": [],
   "source": [
    "Básico no sentindo que é muito usando."
   ]
  },
  {
   "cell_type": "markdown",
   "metadata": {},
   "source": [
    "## Criar-String\n",
    "\n",
    "\n",
    "Para criar é muito fácil, basta usar aspa simples ou dupla "
   ]
  },
  {
   "cell_type": "code",
   "execution_count": 2,
   "metadata": {},
   "outputs": [
    {
     "name": "stdout",
     "output_type": "stream",
     "text": [
      "Ricardo\n",
      "Yoshio\n"
     ]
    }
   ],
   "source": [
    "name = \"Ricardo\"\n",
    "sobrenome= 'Yoshio'\n",
    "print(name)\n",
    "print(sobrenome)"
   ]
  },
  {
   "cell_type": "markdown",
   "metadata": {},
   "source": [
    "## Tamanho da String "
   ]
  },
  {
   "cell_type": "code",
   "execution_count": 5,
   "metadata": {},
   "outputs": [
    {
     "name": "stdout",
     "output_type": "stream",
     "text": [
      "7\n",
      "6\n"
     ]
    }
   ],
   "source": [
    "# usamos função len\n",
    "name= 'Ricardo'\n",
    "print(len(name))\n",
    "print(len(\"Yoshio\"))"
   ]
  },
  {
   "cell_type": "markdown",
   "metadata": {},
   "source": [
    "## Concatenação\n",
    "Utilizamos operador + para concatenar "
   ]
  },
  {
   "cell_type": "code",
   "execution_count": 8,
   "metadata": {},
   "outputs": [
    {
     "name": "stdout",
     "output_type": "stream",
     "text": [
      "RicardoYoshio\n"
     ]
    }
   ],
   "source": [
    "name=\"Ricardo\"\n",
    "sobrenome =\"Yoshio\"\n",
    "\n",
    "print(name + sobrenome)"
   ]
  },
  {
   "cell_type": "markdown",
   "metadata": {},
   "source": [
    "## Converte para str"
   ]
  },
  {
   "cell_type": "code",
   "execution_count": 11,
   "metadata": {},
   "outputs": [
    {
     "data": {
      "text/plain": [
       "'123'"
      ]
     },
     "execution_count": 11,
     "metadata": {},
     "output_type": "execute_result"
    }
   ],
   "source": [
    "str(123)"
   ]
  },
  {
   "cell_type": "markdown",
   "metadata": {},
   "source": [
    "## Acesso elemento "
   ]
  },
  {
   "cell_type": "markdown",
   "metadata": {},
   "source": [
    "### Indice \n",
    "\n",
    "Vamos acessa um elemento para isso variavel[indice que queremos acessar], observação, no python o primeiro elemento começa com o 0,\n",
    "o indice negativo significa acessar de tras para frente, logo -1 vai acessa o ultimo elemento, -2 penultimo elemento, assim por diante."
   ]
  },
  {
   "cell_type": "code",
   "execution_count": 7,
   "metadata": {},
   "outputs": [
    {
     "name": "stdout",
     "output_type": "stream",
     "text": [
      "R\n",
      "o\n"
     ]
    }
   ],
   "source": [
    "# Exemplo\n",
    "name =\"Ricardo\"\n",
    "\n",
    "#Acessando o primeiro elemento \n",
    "print(name[0])\n",
    "\n",
    "#Acessando o ultimo elemento \n",
    "print(name[-1])"
   ]
  },
  {
   "cell_type": "markdown",
   "metadata": {},
   "source": [
    "### Intervalo \n",
    "\n",
    "Vamos supor que você queira acessa um intervalo de cadeia de caracter"
   ]
  },
  {
   "cell_type": "code",
   "execution_count": 10,
   "metadata": {},
   "outputs": [
    {
     "name": "stdout",
     "output_type": "stream",
     "text": [
      "2345\n",
      "123456\n",
      "34567890\n"
     ]
    }
   ],
   "source": [
    "# Exemplo\n",
    "name = \"1234567890\"\n",
    "\n",
    "# vamos pegar o 2º ate 5º elemento \n",
    "print(name[1:5])\n",
    "\n",
    "# Pegando primeiro ate o 6º elemnto \n",
    "print(name[:6])\n",
    "\n",
    "#Pegando o 3º elemento ate o ultimo\n",
    "print(name[2:])"
   ]
  },
  {
   "cell_type": "markdown",
   "metadata": {},
   "source": [
    "### Intervalo com passo\n",
    "\n",
    "é possivel pegar valores com uma determina intervalo desejado variavel[começo do intervalo -1,fim do intervalo, passo] "
   ]
  },
  {
   "cell_type": "code",
   "execution_count": 17,
   "metadata": {},
   "outputs": [
    {
     "name": "stdout",
     "output_type": "stream",
     "text": [
      "2468\n",
      "13579\n",
      "369\n",
      "987654321\n"
     ]
    }
   ],
   "source": [
    "#Exemplo \n",
    "number=\"123456789\"\n",
    "\n",
    "#Queremos imprirmir so par\n",
    "print(number[1::2])\n",
    "\n",
    "#So impar\n",
    "print(number[::2])\n",
    "\n",
    "#so multiplo de 3\n",
    "print(number[2::3])\n",
    "\n",
    "# Ao contrario \n",
    "print(number[::-1])"
   ]
  },
  {
   "cell_type": "markdown",
   "metadata": {},
   "source": [
    "## Fomatação (maisculo, minusculo e etc)"
   ]
  },
  {
   "cell_type": "code",
   "execution_count": 21,
   "metadata": {},
   "outputs": [
    {
     "name": "stdout",
     "output_type": "stream",
     "text": [
      "BUSQUE CONHECIMENTO-ET. BILU\n",
      "busque conhecimento-et. bilu\n",
      "Busque conhecimento-et. bilu\n"
     ]
    }
   ],
   "source": [
    "\n",
    "frase= \"bUsque CONHECImento-ET. Bilu\"\n",
    "\n",
    "# tudo MAISCULO\n",
    "print(frase.upper())\n",
    "\n",
    "#Tudo minusculo \n",
    "print(frase.lower())\n",
    "\n",
    "#A priemira letra da frase maisculo \n",
    "print(frase.capitalize())"
   ]
  },
  {
   "cell_type": "markdown",
   "metadata": {},
   "source": [
    "# Intermédiario \n",
    "\n",
    "Funções que não são tão usual "
   ]
  },
  {
   "cell_type": "markdown",
   "metadata": {},
   "source": [
    "## Split (pega uma frase e separar em palavra)\n",
    "\n",
    "A função split é util para semparar\n",
    "variavel.split(sep=\" \", maxsplit= 2)  \n",
    "A **sep** seria o caracter que queremos separar,  se tivemos sep=\",\" então ele vai separar por virgura, maxsplit é quantidade maxima de separa, caso não atribua vai fazer em tudo "
   ]
  },
  {
   "cell_type": "code",
   "execution_count": 28,
   "metadata": {},
   "outputs": [
    {
     "name": "stdout",
     "output_type": "stream",
     "text": [
      "['Busque', 'conhecimento,', 'estude', 'Geografia', '-', 'ET', 'Bilu']\n"
     ]
    },
    {
     "ename": "TypeError",
     "evalue": "'maxsplit' is an invalid keyword argument for print()",
     "output_type": "error",
     "traceback": [
      "\u001b[0;31m---------------------------------------------------------------------------\u001b[0m",
      "\u001b[0;31mTypeError\u001b[0m                                 Traceback (most recent call last)",
      "\u001b[0;32m<ipython-input-28-3c7b80f1f3b5>\u001b[0m in \u001b[0;36m<module>\u001b[0;34m\u001b[0m\n\u001b[1;32m      2\u001b[0m \u001b[0;34m\u001b[0m\u001b[0m\n\u001b[1;32m      3\u001b[0m \u001b[0mprint\u001b[0m\u001b[0;34m(\u001b[0m\u001b[0mfrase\u001b[0m\u001b[0;34m.\u001b[0m\u001b[0msplit\u001b[0m\u001b[0;34m(\u001b[0m\u001b[0msep\u001b[0m\u001b[0;34m=\u001b[0m\u001b[0;34m\" \"\u001b[0m\u001b[0;34m)\u001b[0m\u001b[0;34m)\u001b[0m\u001b[0;34m\u001b[0m\u001b[0;34m\u001b[0m\u001b[0m\n\u001b[0;32m----> 4\u001b[0;31m \u001b[0mprint\u001b[0m\u001b[0;34m(\u001b[0m\u001b[0mfrase\u001b[0m\u001b[0;34m.\u001b[0m\u001b[0msplit\u001b[0m\u001b[0;34m(\u001b[0m\u001b[0msep\u001b[0m\u001b[0;34m=\u001b[0m\u001b[0;34m\" \"\u001b[0m\u001b[0;34m)\u001b[0m\u001b[0;34m,\u001b[0m  \u001b[0mmaxsplit\u001b[0m\u001b[0;34m=\u001b[0m\u001b[0;36m2\u001b[0m\u001b[0;34m)\u001b[0m\u001b[0;34m\u001b[0m\u001b[0;34m\u001b[0m\u001b[0m\n\u001b[0m",
      "\u001b[0;31mTypeError\u001b[0m: 'maxsplit' is an invalid keyword argument for print()"
     ]
    }
   ],
   "source": [
    "frase = \"Busque conhecimento, estude Geografia - ET Bilu\"\n",
    "\n",
    "print(frase.split(sep=\" \"))\n",
    "print(frase.split(sep=\" \"),  maxsplit=2)"
   ]
  },
  {
   "cell_type": "code",
   "execution_count": null,
   "metadata": {},
   "outputs": [],
   "source": []
  }
 ],
 "metadata": {
  "kernelspec": {
   "display_name": "Python 3",
   "language": "python",
   "name": "python3"
  },
  "language_info": {
   "codemirror_mode": {
    "name": "ipython",
    "version": 3
   },
   "file_extension": ".py",
   "mimetype": "text/x-python",
   "name": "python",
   "nbconvert_exporter": "python",
   "pygments_lexer": "ipython3",
   "version": "3.7.3"
  }
 },
 "nbformat": 4,
 "nbformat_minor": 2
}
