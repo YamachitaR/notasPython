{
 "cells": [
  {
   "cell_type": "markdown",
   "metadata": {},
   "source": [
    "# Básico \n",
    "\n"
   ]
  },
  {
   "cell_type": "markdown",
   "metadata": {},
   "source": [
    "# Intermédiario "
   ]
  },
  {
   "cell_type": "markdown",
   "metadata": {},
   "source": [
    "## Split (pega uma frase e separar em palavra)\n",
    "\n",
    "A função split é util para semparar\n",
    "variavel.split(sep=\" \", maxsplit= 2)  \n",
    "A **sep** seria o caracter que queremos separar,  se tivemos sep=\",\" então ele vai separar por virgura, maxsplit é quantidade maxima de separa, caso não atribua vai fazer em tudo "
   ]
  },
  {
   "cell_type": "code",
   "execution_count": 2,
   "metadata": {},
   "outputs": [
    {
     "name": "stdout",
     "output_type": "stream",
     "text": [
      "['Busque', 'conhecimento,', 'estude', 'Geografia', '-', 'ET', 'Bilu']\n",
      "['Busque', 'conhecimento,', 'estude Geografia - ET Bilu']\n",
      "['Busque conhecimento', ' estude Geografia - ET Bilu']\n"
     ]
    }
   ],
   "source": [
    "frase = \"Busque conhecimento, estude Geografia - ET Bilu\"\n",
    "\n",
    "# vai separar em intervalo de espaço\n",
    "print(frase.split(sep=\" \"))\n",
    "\n",
    "# vai separa em intervalo de espaço somente os dois primeiros \n",
    "print(frase.split(sep=\" \",  maxsplit=2))\n",
    "\n",
    "#Separar pela virgura\n",
    "print(frase.split(sep=\",\"))"
   ]
  },
  {
   "cell_type": "markdown",
   "metadata": {},
   "source": [
    "**Da uma olhada na str la tem mais infornmação** "
   ]
  },
  {
   "cell_type": "code",
   "execution_count": null,
   "metadata": {},
   "outputs": [],
   "source": []
  }
 ],
 "metadata": {
  "kernelspec": {
   "display_name": "Python 3",
   "language": "python",
   "name": "python3"
  },
  "language_info": {
   "codemirror_mode": {
    "name": "ipython",
    "version": 3
   },
   "file_extension": ".py",
   "mimetype": "text/x-python",
   "name": "python",
   "nbconvert_exporter": "python",
   "pygments_lexer": "ipython3",
   "version": "3.7.3"
  }
 },
 "nbformat": 4,
 "nbformat_minor": 2
}
