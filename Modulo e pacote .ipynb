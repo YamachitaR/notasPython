{
 "cells": [
  {
   "cell_type": "markdown",
   "id": "93a14ceb",
   "metadata": {},
   "source": [
    "# Importando \n",
    "\n",
    "Existe 4 formas, sendo que a ultima não é aconselhado  "
   ]
  },
  {
   "cell_type": "code",
   "execution_count": 3,
   "id": "412e9b46",
   "metadata": {},
   "outputs": [
    {
     "data": {
      "text/plain": [
       "3.0"
      ]
     },
     "execution_count": 3,
     "metadata": {},
     "output_type": "execute_result"
    }
   ],
   "source": [
    "\n",
    "import math\n",
    "\n",
    "math.sqrt(9)"
   ]
  },
  {
   "cell_type": "code",
   "execution_count": 4,
   "id": "c612d0b9",
   "metadata": {},
   "outputs": [
    {
     "data": {
      "text/plain": [
       "3.0"
      ]
     },
     "execution_count": 4,
     "metadata": {},
     "output_type": "execute_result"
    }
   ],
   "source": [
    "#mundando o nome do pacote \n",
    "import math as mt\n",
    "\n",
    "mt.sqrt(9)"
   ]
  },
  {
   "cell_type": "code",
   "execution_count": 6,
   "id": "da44f1e3",
   "metadata": {},
   "outputs": [
    {
     "data": {
      "text/plain": [
       "3.0"
      ]
     },
     "execution_count": 6,
     "metadata": {},
     "output_type": "execute_result"
    }
   ],
   "source": [
    "# importando somente a função sqrt\n",
    "from math import sqrt\n",
    "\n",
    "sqrt(9)\n"
   ]
  },
  {
   "cell_type": "code",
   "execution_count": 8,
   "id": "ce2e1c52",
   "metadata": {},
   "outputs": [
    {
     "data": {
      "text/plain": [
       "3.0"
      ]
     },
     "execution_count": 8,
     "metadata": {},
     "output_type": "execute_result"
    }
   ],
   "source": [
    "# importando a funçao e mudado o nome\n",
    "from math import sqrt as raiz \n",
    "\n",
    "raiz(9)"
   ]
  },
  {
   "cell_type": "code",
   "execution_count": null,
   "id": "80adcb4f",
   "metadata": {},
   "outputs": [],
   "source": []
  }
 ],
 "metadata": {
  "kernelspec": {
   "display_name": "Python 3 (ipykernel)",
   "language": "python",
   "name": "python3"
  },
  "language_info": {
   "codemirror_mode": {
    "name": "ipython",
    "version": 3
   },
   "file_extension": ".py",
   "mimetype": "text/x-python",
   "name": "python",
   "nbconvert_exporter": "python",
   "pygments_lexer": "ipython3",
   "version": "3.10.6"
  }
 },
 "nbformat": 4,
 "nbformat_minor": 5
}
