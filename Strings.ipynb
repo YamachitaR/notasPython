{
 "cells": [
  {
   "cell_type": "code",
   "execution_count": null,
   "metadata": {},
   "outputs": [],
   "source": [
    "[![Open In Colab](https://colab.research.google.com/assets/colab-badge.svg)](https://colab.research.google.com/github/YamachitaR/notasPython/blob/main/Strings.ipynb)"
   ]
  },
  {
   "cell_type": "markdown",
   "metadata": {},
   "source": [
    "\n",
    "\n"
   ]
  },
  {
   "cell_type": "markdown",
   "metadata": {},
   "source": [
    "# Básico "
   ]
  },
  {
   "cell_type": "markdown",
   "metadata": {},
   "source": [
    "Básico no sentindo que é muito usando."
   ]
  },
  {
   "cell_type": "markdown",
   "metadata": {},
   "source": [
    "## Criar-String\n",
    "\n",
    "\n",
    "Para criar é muito fácil, basta usar aspa simples ou dupla "
   ]
  },
  {
   "cell_type": "code",
   "execution_count": 2,
   "metadata": {},
   "outputs": [
    {
     "name": "stdout",
     "output_type": "stream",
     "text": [
      "Ricardo\n",
      "Yoshio\n"
     ]
    }
   ],
   "source": [
    "name = \"Ricardo\"\n",
    "sobrenome= 'Yoshio'\n",
    "print(name)\n",
    "print(sobrenome)"
   ]
  },
  {
   "cell_type": "markdown",
   "metadata": {},
   "source": [
    "## Tamanho da String "
   ]
  },
  {
   "cell_type": "code",
   "execution_count": 5,
   "metadata": {},
   "outputs": [
    {
     "name": "stdout",
     "output_type": "stream",
     "text": [
      "7\n",
      "6\n"
     ]
    }
   ],
   "source": [
    "# usamos função len\n",
    "name= 'Ricardo'\n",
    "print(len(name))\n",
    "print(len(\"Yoshio\"))"
   ]
  },
  {
   "cell_type": "markdown",
   "metadata": {},
   "source": [
    "## Concatenação\n",
    "Utilizamos operador + para concatenar "
   ]
  },
  {
   "cell_type": "code",
   "execution_count": 8,
   "metadata": {},
   "outputs": [
    {
     "name": "stdout",
     "output_type": "stream",
     "text": [
      "RicardoYoshio\n"
     ]
    }
   ],
   "source": [
    "name=\"Ricardo\"\n",
    "sobrenome =\"Yoshio\"\n",
    "\n",
    "print(name + sobrenome)"
   ]
  },
  {
   "cell_type": "markdown",
   "metadata": {},
   "source": [
    "## Converte para str"
   ]
  },
  {
   "cell_type": "code",
   "execution_count": 11,
   "metadata": {},
   "outputs": [
    {
     "data": {
      "text/plain": [
       "'123'"
      ]
     },
     "execution_count": 11,
     "metadata": {},
     "output_type": "execute_result"
    }
   ],
   "source": [
    "# inteiro em str\n",
    "str(123)"
   ]
  },
  {
   "cell_type": "code",
   "execution_count": 40,
   "metadata": {},
   "outputs": [
    {
     "name": "stdout",
     "output_type": "stream",
     "text": [
      "Ricardo Yoshio Silva\n",
      "RicardoYoshioSilva\n",
      "Ricardo,Yoshio,Silva\n",
      "Ricardo+Yoshio+Silva\n"
     ]
    }
   ],
   "source": [
    "#lista em str \n",
    "lista=[\"Ricardo\", \"Yoshio\", \"Silva\"]\n",
    "nome=\" \".join(lista)\n",
    "# observe \" \" serve para separa\n",
    "print(nome)\n",
    "\n",
    "print(\"\".join(lista))\n",
    "print(\",\".join(lista))\n",
    "print(\"+\".join(lista))"
   ]
  },
  {
   "cell_type": "markdown",
   "metadata": {},
   "source": [
    "## Acesso elemento "
   ]
  },
  {
   "cell_type": "markdown",
   "metadata": {},
   "source": [
    "### Indice \n",
    "\n",
    "Vamos acessa um elemento para isso variavel[indice que queremos acessar], observação, no python o primeiro elemento começa com o 0,\n",
    "o indice negativo significa acessar de tras para frente, logo -1 vai acessa o ultimo elemento, -2 penultimo elemento, assim por diante."
   ]
  },
  {
   "cell_type": "code",
   "execution_count": 7,
   "metadata": {},
   "outputs": [
    {
     "name": "stdout",
     "output_type": "stream",
     "text": [
      "R\n",
      "o\n"
     ]
    }
   ],
   "source": [
    "# Exemplo\n",
    "name =\"Ricardo\"\n",
    "\n",
    "#Acessando o primeiro elemento \n",
    "print(name[0])\n",
    "\n",
    "#Acessando o ultimo elemento \n",
    "print(name[-1])"
   ]
  },
  {
   "cell_type": "markdown",
   "metadata": {},
   "source": [
    "### Intervalo \n",
    "\n",
    "Vamos supor que você queira acessa um intervalo de cadeia de caracter"
   ]
  },
  {
   "cell_type": "code",
   "execution_count": 10,
   "metadata": {},
   "outputs": [
    {
     "name": "stdout",
     "output_type": "stream",
     "text": [
      "2345\n",
      "123456\n",
      "34567890\n"
     ]
    }
   ],
   "source": [
    "# Exemplo\n",
    "name = \"1234567890\"\n",
    "\n",
    "# vamos pegar o 2º ate 5º elemento \n",
    "print(name[1:5])\n",
    "\n",
    "# Pegando primeiro ate o 6º elemnto \n",
    "print(name[:6])\n",
    "\n",
    "#Pegando o 3º elemento ate o ultimo\n",
    "print(name[2:])"
   ]
  },
  {
   "cell_type": "markdown",
   "metadata": {},
   "source": [
    "### Intervalo com passo\n",
    "\n",
    "é possivel pegar valores com uma determina intervalo desejado variavel[começo do intervalo -1,fim do intervalo, passo] "
   ]
  },
  {
   "cell_type": "code",
   "execution_count": 17,
   "metadata": {},
   "outputs": [
    {
     "name": "stdout",
     "output_type": "stream",
     "text": [
      "2468\n",
      "13579\n",
      "369\n",
      "987654321\n"
     ]
    }
   ],
   "source": [
    "#Exemplo \n",
    "number=\"123456789\"\n",
    "\n",
    "#Queremos imprirmir so par\n",
    "print(number[1::2])\n",
    "\n",
    "#So impar\n",
    "print(number[::2])\n",
    "\n",
    "#so multiplo de 3\n",
    "print(number[2::3])\n",
    "\n",
    "# Ao contrario \n",
    "print(number[::-1])"
   ]
  },
  {
   "cell_type": "markdown",
   "metadata": {},
   "source": [
    "## Fomatação (maisculo, minusculo e etc)"
   ]
  },
  {
   "cell_type": "code",
   "execution_count": 21,
   "metadata": {},
   "outputs": [
    {
     "name": "stdout",
     "output_type": "stream",
     "text": [
      "BUSQUE CONHECIMENTO-ET. BILU\n",
      "busque conhecimento-et. bilu\n",
      "Busque conhecimento-et. bilu\n"
     ]
    }
   ],
   "source": [
    "\n",
    "frase= \"bUsque CONHECImento-ET. Bilu\"\n",
    "\n",
    "# tudo MAISCULO\n",
    "print(frase.upper())\n",
    "\n",
    "#Tudo minusculo \n",
    "print(frase.lower())\n",
    "\n",
    "#A priemira letra da frase maisculo \n",
    "print(frase.capitalize())"
   ]
  },
  {
   "cell_type": "markdown",
   "metadata": {},
   "source": [
    "## Encontra palavra ou determinado caracter"
   ]
  },
  {
   "cell_type": "markdown",
   "metadata": {},
   "source": [
    "### Find\n",
    "\n",
    "Podemos usar a função find,  frase.find(\"palavra ou caracter\")"
   ]
  },
  {
   "cell_type": "code",
   "execution_count": 4,
   "metadata": {},
   "outputs": [
    {
     "name": "stdout",
     "output_type": "stream",
     "text": [
      "8\n",
      "-1\n",
      "6\n"
     ]
    }
   ],
   "source": [
    "name=\"Ricardo Yoshio\"\n",
    "\n",
    "# vai determina a posição inicial onde encontra\n",
    "print(name.find(\"Yoshio\"))\n",
    "\n",
    "# Retorna -1 caso não encontra \n",
    "print(name.find(\"Santos\"))\n",
    "\n",
    "# procura em um intervalo\n",
    "print(name.find(\"o\", 0, 7))"
   ]
  },
  {
   "cell_type": "markdown",
   "metadata": {},
   "source": [
    "### index\n",
    "Parecido com find, mas quando não encontra ele da um erro "
   ]
  },
  {
   "cell_type": "code",
   "execution_count": 5,
   "metadata": {},
   "outputs": [
    {
     "name": "stdout",
     "output_type": "stream",
     "text": [
      "8\n",
      "6\n"
     ]
    },
    {
     "ename": "ValueError",
     "evalue": "substring not found",
     "output_type": "error",
     "traceback": [
      "\u001b[0;31m---------------------------------------------------------------------------\u001b[0m",
      "\u001b[0;31mValueError\u001b[0m                                Traceback (most recent call last)",
      "\u001b[0;32m<ipython-input-5-7e34a2646ee3>\u001b[0m in \u001b[0;36m<module>\u001b[0;34m\u001b[0m\n\u001b[1;32m      8\u001b[0m \u001b[0;34m\u001b[0m\u001b[0m\n\u001b[1;32m      9\u001b[0m \u001b[0;31m# vai dá um erro\u001b[0m\u001b[0;34m\u001b[0m\u001b[0;34m\u001b[0m\u001b[0;34m\u001b[0m\u001b[0m\n\u001b[0;32m---> 10\u001b[0;31m \u001b[0mprint\u001b[0m\u001b[0;34m(\u001b[0m\u001b[0mname\u001b[0m\u001b[0;34m.\u001b[0m\u001b[0mindex\u001b[0m\u001b[0;34m(\u001b[0m\u001b[0;34m\"Santos\"\u001b[0m\u001b[0;34m)\u001b[0m\u001b[0;34m)\u001b[0m\u001b[0;34m\u001b[0m\u001b[0;34m\u001b[0m\u001b[0m\n\u001b[0m\u001b[1;32m     11\u001b[0m \u001b[0;34m\u001b[0m\u001b[0m\n",
      "\u001b[0;31mValueError\u001b[0m: substring not found"
     ]
    }
   ],
   "source": [
    "name=\"Ricardo Yoshio\"\n",
    "\n",
    "# vai determina a posição inicial onde encontra\n",
    "print(name.index(\"Yoshio\"))\n",
    "\n",
    "# procura em um intervalo\n",
    "print(name.index(\"o\", 0, 7))\n",
    "\n",
    "# vai dá um erro  \n",
    "print(name.index(\"Santos\"))\n",
    "\n"
   ]
  },
  {
   "cell_type": "markdown",
   "metadata": {},
   "source": [
    "Para não quebra o nosso código temos a seguinte solução "
   ]
  },
  {
   "cell_type": "code",
   "execution_count": 6,
   "metadata": {},
   "outputs": [
    {
     "name": "stdout",
     "output_type": "stream",
     "text": [
      "Não encontrado \n"
     ]
    }
   ],
   "source": [
    "name=\"Ricardo Yoshio\"\n",
    "\n",
    "try:\n",
    "    print(name.index(\"Santos\"))\n",
    "except ValueError:\n",
    "    print(\"Não encontrado \")\n",
    "    "
   ]
  },
  {
   "cell_type": "markdown",
   "metadata": {},
   "source": [
    "## Conta palvaras ou frase \n"
   ]
  },
  {
   "cell_type": "code",
   "execution_count": 10,
   "metadata": {},
   "outputs": [
    {
     "name": "stdout",
     "output_type": "stream",
     "text": [
      "2\n",
      "0\n",
      "1\n"
     ]
    }
   ],
   "source": [
    "frase=\"Conta Contagem\"\n",
    "\n",
    "# sera que vai conta Contagem?\n",
    "print(frase.count(\"Conta\"))\n",
    "\n",
    "#Sera que diferencia maisculo em minusculo?\n",
    "frase1=\"rr\"\n",
    "print(frase1.count(\"R\"))\n",
    "\n",
    "#podemo fazer em um intervalo também\n",
    "print(frase.count(\"Conta\", 0, 7))\n"
   ]
  },
  {
   "cell_type": "markdown",
   "metadata": {},
   "source": [
    "## Substitui"
   ]
  },
  {
   "cell_type": "code",
   "execution_count": null,
   "metadata": {},
   "outputs": [],
   "source": [
    "frase=\"Mundo velho, tem carro velho, tem casa velho e velhote\"\n",
    "\n",
    "#substitui velho para novo\n",
    "print(frase.replace(\"velho\", \"novo\"))"
   ]
  },
  {
   "cell_type": "markdown",
   "metadata": {},
   "source": [
    "# Intermédiario \n",
    "\n",
    "Funções que não são tão usual "
   ]
  },
  {
   "cell_type": "code",
   "execution_count": null,
   "metadata": {},
   "outputs": [],
   "source": []
  },
  {
   "cell_type": "markdown",
   "metadata": {},
   "source": [
    "# Avançado \n",
    "\n",
    "Avaçado, intermediario e báscio são coisa relativos, mas tento colocar coisa que não vejo tanta frequencia ou uso "
   ]
  },
  {
   "cell_type": "markdown",
   "metadata": {},
   "source": [
    "## Split (pega uma frase e separar em palavra)\n",
    "\n",
    "A função split é util para semparar\n",
    "variavel.split(sep=\" \", maxsplit= 2)  \n",
    "A **sep** seria o caracter que queremos separar,  se tivemos sep=\",\" então ele vai separar por virgura, maxsplit é quantidade maxima de separa, caso não atribua vai fazer em tudo "
   ]
  },
  {
   "cell_type": "code",
   "execution_count": 30,
   "metadata": {},
   "outputs": [
    {
     "name": "stdout",
     "output_type": "stream",
     "text": [
      "['Busque', 'conhecimento,', 'estude', 'Geografia', '-', 'ET', 'Bilu']\n",
      "['Busque', 'conhecimento,', 'estude Geografia - ET Bilu']\n",
      "['Busque conhecimento', ' estude Geografia - ET Bilu']\n"
     ]
    }
   ],
   "source": [
    "frase = \"Busque conhecimento, estude Geografia - ET Bilu\"\n",
    "\n",
    "# vai separar em intervalo de espaço\n",
    "print(frase.split(sep=\" \"))\n",
    "\n",
    "# vai separa em intervalo de espaço somente os dois primeiros \n",
    "print(frase.split(sep=\" \",  maxsplit=2))\n",
    "\n",
    "#Separar pela virgura\n",
    "print(frase.split(sep=\",\"))"
   ]
  },
  {
   "cell_type": "markdown",
   "metadata": {},
   "source": [
    "### Slipt que separa pelo pulo de linha\n",
    "Esse split é especial "
   ]
  },
  {
   "cell_type": "code",
   "execution_count": 41,
   "metadata": {},
   "outputs": [
    {
     "name": "stdout",
     "output_type": "stream",
     "text": [
      "Busque conhecimento \n",
      "ET Bilu\n",
      "['Busque conhecimento ', 'ET Bilu']\n"
     ]
    }
   ],
   "source": [
    "# Lembrando que \\n é para pula linha\n",
    "frase = \"Busque conhecimento \\nET Bilu\"\n",
    "print(frase)\n",
    "\n",
    "print(frase.splitlines()) "
   ]
  },
  {
   "cell_type": "markdown",
   "metadata": {},
   "source": [
    "### Split que começa de tras para frente \n",
    "\n",
    "Unica diferença que ele pega a frase de tras para frente \n",
    "\n"
   ]
  },
  {
   "cell_type": "code",
   "execution_count": 34,
   "metadata": {},
   "outputs": [
    {
     "name": "stdout",
     "output_type": "stream",
     "text": [
      "['Busque', 'conhecimento,', 'estude', 'Geografia', '-', 'ET', 'Bilu']\n",
      "['Busque conhecimento, estude Geografia -', 'ET', 'Bilu']\n"
     ]
    }
   ],
   "source": [
    "frase = \"Busque conhecimento, estude Geografia - ET Bilu\"\n",
    "\n",
    "# a diferença tem r, nesse caso vai funciona igual o normal\n",
    "print(frase.rsplit(sep=\" \"))\n",
    "\n",
    "# vai separa em intervalo de espaço somente os dois ultimo \n",
    "print(frase.rsplit(sep=\" \",  maxsplit=2))\n"
   ]
  },
  {
   "cell_type": "markdown",
   "metadata": {},
   "source": [
    "## Remover caracter das pontas\n",
    "\n",
    "Isso lembra a função strtrim do C. "
   ]
  },
  {
   "cell_type": "code",
   "execution_count": 54,
   "metadata": {},
   "outputs": [
    {
     "name": "stdout",
     "output_type": "stream",
     "text": [
      "RicardoYoshio\n",
      "Ricardo          Yoshio\n",
      "Coelh\n",
      "oelhoooooooooooo\n",
      "squedeeeeeeeeeeee\n",
      "right\n"
     ]
    }
   ],
   "source": [
    "# Remove espaço final e no começo\n",
    "name = \"Ricardo \"\n",
    "sobrenome =\"         Yoshio\"\n",
    "print(name.strip() + sobrenome.strip())\n",
    "print(name + sobrenome)\n",
    "\n",
    "\n",
    "#Quando tem parametro \n",
    "animal =\"Coelhoooooooooooo\"\n",
    "print(animal.strip(\"o\"))\n",
    "print(animal.strip(\"C\"))\n",
    "\n",
    "#somente esquerto \n",
    "esquerdo= \"eesquedeeeeeeeeeeee\"\n",
    "print(esquerdo.lstrip(\"e\")) # repare l no começo do strip, l de left\n",
    "\n",
    "#somente do direito \n",
    "direito=\"rightr\"\n",
    "print(direito.rstrip(\"r\")) # repare r no começo do strip, r de right"
   ]
  },
  {
   "cell_type": "code",
   "execution_count": null,
   "metadata": {},
   "outputs": [],
   "source": []
  }
 ],
 "metadata": {
  "kernelspec": {
   "display_name": "Python 3 (ipykernel)",
   "language": "python",
   "name": "python3"
  },
  "language_info": {
   "codemirror_mode": {
    "name": "ipython",
    "version": 3
   },
   "file_extension": ".py",
   "mimetype": "text/x-python",
   "name": "python",
   "nbconvert_exporter": "python",
   "pygments_lexer": "ipython3",
   "version": "3.10.6"
  }
 },
 "nbformat": 4,
 "nbformat_minor": 2
}
