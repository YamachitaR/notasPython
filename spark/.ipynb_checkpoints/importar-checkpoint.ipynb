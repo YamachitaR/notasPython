{
 "cells": [
  {
   "cell_type": "markdown",
   "id": "aa1d4abe",
   "metadata": {},
   "source": [
    "# Fonte\n",
    "\n",
    "Esses exemplos foi retirado da aula **Machine Learning com Spark e Pyspark: o Curso Completo** do Profº Fernando Amaral  na plataforma Udemy"
   ]
  },
  {
   "cell_type": "code",
   "execution_count": 1,
   "id": "e345908c",
   "metadata": {},
   "outputs": [
    {
     "name": "stderr",
     "output_type": "stream",
     "text": [
      "23/07/20 18:54:53 WARN Utils: Your hostname, rick-Aspire-V3-571 resolves to a loopback address: 127.0.1.1; using 192.168.0.185 instead (on interface wlp3s0)\n",
      "23/07/20 18:54:53 WARN Utils: Set SPARK_LOCAL_IP if you need to bind to another address\n",
      "Setting default log level to \"WARN\".\n",
      "To adjust logging level use sc.setLogLevel(newLevel). For SparkR, use setLogLevel(newLevel).\n",
      "23/07/20 18:54:59 WARN NativeCodeLoader: Unable to load native-hadoop library for your platform... using builtin-java classes where applicable\n",
      "23/07/20 18:55:06 WARN Utils: Service 'SparkUI' could not bind on port 4040. Attempting port 4041.\n",
      "23/07/20 18:55:06 WARN Utils: Service 'SparkUI' could not bind on port 4041. Attempting port 4042.\n"
     ]
    }
   ],
   "source": [
    "import findspark\n",
    "findspark.init()\n",
    "import pyspark\n",
    "from pyspark.sql import SparkSession\n",
    "\n",
    "spark = SparkSession.builder.appName(\"importacao\").getOrCreate()"
   ]
  },
  {
   "cell_type": "markdown",
   "id": "a90b9969",
   "metadata": {},
   "source": [
    "## Carregando CSV"
   ]
  },
  {
   "cell_type": "markdown",
   "id": "c47507be",
   "metadata": {},
   "source": [
    "Repare que o arquivo não tem cabeçalho "
   ]
  },
  {
   "cell_type": "code",
   "execution_count": 12,
   "id": "c4a142fd",
   "metadata": {},
   "outputs": [
    {
     "name": "stderr",
     "output_type": "stream",
     "text": [
      "\r",
      "[Stage 3:>                                                          (0 + 1) / 1]\r",
      "\r",
      "                                                                                \r"
     ]
    },
    {
     "name": "stdout",
     "output_type": "stream",
     "text": [
      "+---+-------------------+-----+-------------+---+----------+\n",
      "|_c0|                _c1|  _c2|          _c3|_c4|       _c5|\n",
      "+---+-------------------+-----+-------------+---+----------+\n",
      "|  1|   Carminda Pestana|Ativo|  Santa Maria| 23|2020-08-11|\n",
      "|  2|    Deolinda Vilela|Ativo|Novo Hamburgo| 34|2020-03-05|\n",
      "|  3|   Emídio Dornelles|Ativo| Porto Alegre| 34|2020-02-05|\n",
      "|  4|Felisbela Dornelles|Ativo| Porto Alegre| 36|2020-02-05|\n",
      "|  5|     Graça Ornellas|Ativo| Porto Alegre| 12|2020-02-05|\n",
      "|  6|   Matilde Rebouças|Ativo| Porto Alegre| 22|2019-01-05|\n",
      "|  7|    Noêmia   Orriça|Ativo|  Santa Maria| 45|2019-10-05|\n",
      "|  8|      Roque Vásquez|Ativo| Porto Alegre| 65|2020-03-05|\n",
      "|  9|      Uriel Queiroz|Ativo| Porto Alegre| 54|2018-05-05|\n",
      "| 10|   Viviana Sequeira|Ativo| Porto Alegre|  0|2020-09-05|\n",
      "+---+-------------------+-----+-------------+---+----------+\n",
      "\n"
     ]
    }
   ],
   "source": [
    "despachantes = spark.read.csv('datasets/despachantes.csv')\n",
    "despachantes.show()"
   ]
  },
  {
   "cell_type": "code",
   "execution_count": 13,
   "id": "eca8d7ad",
   "metadata": {},
   "outputs": [
    {
     "name": "stdout",
     "output_type": "stream",
     "text": [
      "+---+-------------------+------+-------------+------+----------+\n",
      "| id|               nome|status|       cidade|vendas|      data|\n",
      "+---+-------------------+------+-------------+------+----------+\n",
      "|  1|   Carminda Pestana| Ativo|  Santa Maria|    23|2020-08-11|\n",
      "|  2|    Deolinda Vilela| Ativo|Novo Hamburgo|    34|2020-03-05|\n",
      "|  3|   Emídio Dornelles| Ativo| Porto Alegre|    34|2020-02-05|\n",
      "|  4|Felisbela Dornelles| Ativo| Porto Alegre|    36|2020-02-05|\n",
      "|  5|     Graça Ornellas| Ativo| Porto Alegre|    12|2020-02-05|\n",
      "|  6|   Matilde Rebouças| Ativo| Porto Alegre|    22|2019-01-05|\n",
      "|  7|    Noêmia   Orriça| Ativo|  Santa Maria|    45|2019-10-05|\n",
      "|  8|      Roque Vásquez| Ativo| Porto Alegre|    65|2020-03-05|\n",
      "|  9|      Uriel Queiroz| Ativo| Porto Alegre|    54|2018-05-05|\n",
      "| 10|   Viviana Sequeira| Ativo| Porto Alegre|     0|2020-09-05|\n",
      "+---+-------------------+------+-------------+------+----------+\n",
      "\n"
     ]
    }
   ],
   "source": [
    "arqschema = \"id INT, nome STRING, status STRING, cidade STRING, vendas INT, data DATE\"\n",
    "\n",
    "#nesse exemplo estamos colocando cabeçalho \n",
    "despachantes = spark.read.csv('datasets/despachantes.csv', header=False, schema=arqschema)\n",
    "\n",
    "despachantes.show()"
   ]
  },
  {
   "cell_type": "code",
   "execution_count": 15,
   "id": "46c25c5e",
   "metadata": {},
   "outputs": [
    {
     "data": {
      "text/plain": [
       "StructType([StructField('id', IntegerType(), True), StructField('nome', StringType(), True), StructField('status', StringType(), True), StructField('cidade', StringType(), True), StructField('vendas', IntegerType(), True), StructField('data', DateType(), True)])"
      ]
     },
     "execution_count": 15,
     "metadata": {},
     "output_type": "execute_result"
    }
   ],
   "source": [
    "# Para saber o tipo \n",
    "despachantes.schema"
   ]
  },
  {
   "cell_type": "markdown",
   "id": "ebb7778d",
   "metadata": {},
   "source": [
    "## Utilizando load para carregar o arquivo\n",
    "\n",
    "Bem parecido como nos já tinha visto anterior, só que precisamos passar o parametro format. "
   ]
  },
  {
   "cell_type": "code",
   "execution_count": 17,
   "id": "e5550fae",
   "metadata": {},
   "outputs": [
    {
     "name": "stdout",
     "output_type": "stream",
     "text": [
      "+---+-------------------+------+-------------+------+----------+\n",
      "| id|               nome|status|       cidade|vendas|      data|\n",
      "+---+-------------------+------+-------------+------+----------+\n",
      "|  1|   Carminda Pestana| Ativo|  Santa Maria|    23|2020-08-11|\n",
      "|  2|    Deolinda Vilela| Ativo|Novo Hamburgo|    34|2020-03-05|\n",
      "|  3|   Emídio Dornelles| Ativo| Porto Alegre|    34|2020-02-05|\n",
      "|  4|Felisbela Dornelles| Ativo| Porto Alegre|    36|2020-02-05|\n",
      "|  5|     Graça Ornellas| Ativo| Porto Alegre|    12|2020-02-05|\n",
      "|  6|   Matilde Rebouças| Ativo| Porto Alegre|    22|2019-01-05|\n",
      "|  7|    Noêmia   Orriça| Ativo|  Santa Maria|    45|2019-10-05|\n",
      "|  8|      Roque Vásquez| Ativo| Porto Alegre|    65|2020-03-05|\n",
      "|  9|      Uriel Queiroz| Ativo| Porto Alegre|    54|2018-05-05|\n",
      "| 10|   Viviana Sequeira| Ativo| Porto Alegre|     0|2020-09-05|\n",
      "+---+-------------------+------+-------------+------+----------+\n",
      "\n"
     ]
    }
   ],
   "source": [
    "arqschema = \"id INT, nome STRING, status STRING, cidade STRING, vendas INT, data DATE\"\n",
    "\n",
    "#nesse exemplo estamos colocando cabeçalho \n",
    "despachantes = spark.read.load('datasets/despachantes.csv', format='csv', header=False, schema=arqschema)\n",
    "\n",
    "despachantes.show()"
   ]
  },
  {
   "cell_type": "markdown",
   "id": "4e85ac1e",
   "metadata": {},
   "source": [
    "## Usando format\n",
    "\n",
    "mais uma forma de carregar arquivo "
   ]
  },
  {
   "cell_type": "code",
   "execution_count": 5,
   "id": "9120ce6b",
   "metadata": {},
   "outputs": [
    {
     "name": "stderr",
     "output_type": "stream",
     "text": [
      "[Stage 1:>                                                          (0 + 1) / 1]\r"
     ]
    },
    {
     "name": "stdout",
     "output_type": "stream",
     "text": [
      "+---+-------------------+-----+-------------+---+----------+\n",
      "|_c0|                _c1|  _c2|          _c3|_c4|       _c5|\n",
      "+---+-------------------+-----+-------------+---+----------+\n",
      "|  1|   Carminda Pestana|Ativo|  Santa Maria| 23|2020-08-11|\n",
      "|  2|    Deolinda Vilela|Ativo|Novo Hamburgo| 34|2020-03-05|\n",
      "|  3|   Emídio Dornelles|Ativo| Porto Alegre| 34|2020-02-05|\n",
      "|  4|Felisbela Dornelles|Ativo| Porto Alegre| 36|2020-02-05|\n",
      "|  5|     Graça Ornellas|Ativo| Porto Alegre| 12|2020-02-05|\n",
      "|  6|   Matilde Rebouças|Ativo| Porto Alegre| 22|2019-01-05|\n",
      "|  7|    Noêmia   Orriça|Ativo|  Santa Maria| 45|2019-10-05|\n",
      "|  8|      Roque Vásquez|Ativo| Porto Alegre| 65|2020-03-05|\n",
      "|  9|      Uriel Queiroz|Ativo| Porto Alegre| 54|2018-05-05|\n",
      "| 10|   Viviana Sequeira|Ativo| Porto Alegre|  0|2020-09-05|\n",
      "+---+-------------------+-----+-------------+---+----------+\n",
      "\n"
     ]
    },
    {
     "name": "stderr",
     "output_type": "stream",
     "text": [
      "\r",
      "                                                                                \r"
     ]
    }
   ],
   "source": [
    "par = spark.read.format(\"parquet\").load(\"datasets/despachantes.parquet\")\n",
    "par.show()"
   ]
  },
  {
   "cell_type": "code",
   "execution_count": 6,
   "id": "ed73688e",
   "metadata": {},
   "outputs": [
    {
     "name": "stdout",
     "output_type": "stream",
     "text": [
      "+-------------+-----------+---+-------------------+------+------+\n",
      "|       cidade|       data| id|               nome|status|vendas|\n",
      "+-------------+-----------+---+-------------------+------+------+\n",
      "|  Santa Maria| 2020-08-11|  1|   Carminda Pestana| Ativo|    23|\n",
      "|Novo Hamburgo| 2020-03-05|  2|    Deolinda Vilela| Ativo|    34|\n",
      "| Porto Alegre| 2020-02-05|  3|   Emídio Dornelles| Ativo|    34|\n",
      "| Porto Alegre| 2020-02-05|  4|Felisbela Dornelles| Ativo|    36|\n",
      "| Porto Alegre| 2020-02-05|  5|     Graça Ornellas| Ativo|    12|\n",
      "| Porto Alegre| 2019-01-05|  6|   Matilde Rebouças| Ativo|    22|\n",
      "|  Santa Maria| 2019-10-05|  7|    Noêmia   Orriça| Ativo|    45|\n",
      "| Porto Alegre| 2020-03-05|  8|      Roque Vásquez| Ativo|    65|\n",
      "| Porto Alegre| 2018-05-05|  9|      Uriel Queiroz| Ativo|    54|\n",
      "| Porto Alegre| 2020-09-05| 10|   Viviana Sequeira| Ativo|     0|\n",
      "+-------------+-----------+---+-------------------+------+------+\n",
      "\n"
     ]
    }
   ],
   "source": [
    "js = spark.read.format(\"json\").load(\"datasets/despachantes.json\")\n",
    "js.show()"
   ]
  },
  {
   "cell_type": "markdown",
   "id": "4e00424f",
   "metadata": {},
   "source": [
    "# LIBSVM\n",
    "\n",
    "Ele não é uma extensão, ele seria um jeito diferente de armazenar os dados.\n",
    "Utilizando o conceito de matriz esparsa "
   ]
  },
  {
   "cell_type": "code",
   "execution_count": 6,
   "id": "f825c92e",
   "metadata": {},
   "outputs": [],
   "source": [
    "dados = spark.read.format(\"libsvm\").option(\"numFeatures\", \"4\").load(\"datasets/iris_libsvm.txt\")"
   ]
  },
  {
   "cell_type": "code",
   "execution_count": null,
   "id": "dd77115c",
   "metadata": {},
   "outputs": [],
   "source": []
  }
 ],
 "metadata": {
  "kernelspec": {
   "display_name": "Python 3 (ipykernel)",
   "language": "python",
   "name": "python3"
  },
  "language_info": {
   "codemirror_mode": {
    "name": "ipython",
    "version": 3
   },
   "file_extension": ".py",
   "mimetype": "text/x-python",
   "name": "python",
   "nbconvert_exporter": "python",
   "pygments_lexer": "ipython3",
   "version": "3.10.6"
  }
 },
 "nbformat": 4,
 "nbformat_minor": 5
}
